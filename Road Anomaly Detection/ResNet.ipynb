{
  "cells": [
    {
      "cell_type": "code",
      "execution_count": null,
      "metadata": {
        "colab": {
          "base_uri": "https://localhost:8080/"
        },
        "id": "qmRS9CVWscR_",
        "outputId": "cb844039-75b8-4f2f-bf7e-2a81069d5d68"
      },
      "outputs": [
        {
          "output_type": "stream",
          "name": "stdout",
          "text": [
            "Drive already mounted at /content/drive; to attempt to forcibly remount, call drive.mount(\"/content/drive\", force_remount=True).\n"
          ]
        }
      ],
      "source": [
        "from google.colab import drive\n",
        "drive.mount('/content/drive')"
      ]
    },
    {
      "cell_type": "code",
      "execution_count": null,
      "metadata": {
        "id": "tvUSTvKYy2_x"
      },
      "outputs": [],
      "source": [
        "from tensorflow.keras.preprocessing.image import ImageDataGenerator\n",
        "\n",
        "datagen = ImageDataGenerator()"
      ]
    },
    {
      "cell_type": "code",
      "execution_count": null,
      "metadata": {
        "colab": {
          "base_uri": "https://localhost:8080/"
        },
        "id": "994pDqnyy8M1",
        "outputId": "517fcca0-e1d0-4ef4-d149-f4beef0f54cd"
      },
      "outputs": [
        {
          "output_type": "stream",
          "name": "stdout",
          "text": [
            "Found 806 images belonging to 3 classes.\n"
          ]
        }
      ],
      "source": [
        "# training data\n",
        "train_generator = datagen.flow_from_directory(\n",
        "    directory=\"/content/drive/MyDrive/data/split_data/train\",\n",
        "    target_size=(224, 224),\n",
        "    batch_size=32,\n",
        "    class_mode=\"categorical\",\n",
        ")"
      ]
    },
    {
      "cell_type": "code",
      "execution_count": null,
      "metadata": {
        "colab": {
          "base_uri": "https://localhost:8080/"
        },
        "id": "E0WNYON2zw8F",
        "outputId": "cef80b5a-7ce8-4fdb-b6ee-d19770b53278"
      },
      "outputs": [
        {
          "output_type": "stream",
          "name": "stdout",
          "text": [
            "Found 102 images belonging to 3 classes.\n"
          ]
        }
      ],
      "source": [
        "# validation data\n",
        "valid_generator = datagen.flow_from_directory(\n",
        "    directory=\"/content/drive/MyDrive/data/split_data/validation\",\n",
        "    target_size=(224, 224),\n",
        "    batch_size=32,\n",
        "    class_mode=\"categorical\",\n",
        ")"
      ]
    },
    {
      "cell_type": "code",
      "execution_count": null,
      "metadata": {
        "colab": {
          "base_uri": "https://localhost:8080/"
        },
        "id": "ZcT_D2gBzxGL",
        "outputId": "cddf4150-41b6-401a-b413-609a776b1fe9"
      },
      "outputs": [
        {
          "output_type": "stream",
          "name": "stdout",
          "text": [
            "Found 101 images belonging to 3 classes.\n"
          ]
        }
      ],
      "source": [
        "# test data\n",
        "test_generator = datagen.flow_from_directory(\n",
        "    directory=\"/content/drive/MyDrive/data/split_data/test\",\n",
        "    target_size=(224, 224),\n",
        "    batch_size=32,\n",
        "    shuffle=False,\n",
        "    class_mode=\"categorical\",\n",
        ")"
      ]
    },
    {
      "cell_type": "code",
      "execution_count": null,
      "metadata": {
        "id": "EF8yEoUP0DKT"
      },
      "outputs": [],
      "source": [
        "from tensorflow.keras.applications import ResNet50\n",
        "\n",
        "# ResNet50 model\n",
        "resnet_50 = ResNet50(include_top=False, weights='imagenet', input_shape=(224,224,3))\n",
        "for layer in resnet_50.layers:\n",
        "    layer.trainable = False"
      ]
    },
    {
      "cell_type": "code",
      "execution_count": null,
      "metadata": {
        "id": "FcUnVuas0Fmy"
      },
      "outputs": [],
      "source": [
        "from tensorflow.keras import layers\n",
        "from tensorflow.keras.models import Sequential, Model\n",
        "\n",
        "# build the entire model\n",
        "x = resnet_50.output\n",
        "x = layers.GlobalAveragePooling2D()(x)\n",
        "x = layers.Dense(512, activation='relu')(x)\n",
        "x = layers.Dropout(0.5)(x)\n",
        "x = layers.Dense(256, activation='relu')(x)\n",
        "x = layers.Dropout(0.5)(x)\n",
        "x = layers.Dense(128, activation='relu')(x)\n",
        "x = layers.Dropout(0.5)(x)\n",
        "x = layers.Dense(64, activation='relu')(x)\n",
        "x = layers.Dropout(0.5)(x)\n",
        "predictions = layers.Dense(3, activation='softmax')(x)\n",
        "model = Model(inputs = resnet_50.input, outputs = predictions)"
      ]
    },
    {
      "cell_type": "code",
      "execution_count": null,
      "metadata": {
        "id": "_DCOMPMpZqE1"
      },
      "outputs": [],
      "source": [
        "from tensorflow.keras.callbacks import EarlyStopping\n",
        "\n",
        "early_stopping = EarlyStopping(monitor='val_loss', patience=2)"
      ]
    },
    {
      "cell_type": "code",
      "execution_count": null,
      "metadata": {
        "colab": {
          "base_uri": "https://localhost:8080/"
        },
        "id": "xBvm0KL70UW8",
        "outputId": "2ed61b4b-c5b1-48b6-d5b9-bc2334e3d246"
      },
      "outputs": [
        {
          "output_type": "stream",
          "name": "stdout",
          "text": [
            "Epoch 1/10\n",
            "26/26 [==============================] - 33s 916ms/step - loss: 1.8212 - accuracy: 0.3697 - val_loss: 0.8325 - val_accuracy: 0.8137\n",
            "Epoch 2/10\n",
            "26/26 [==============================] - 13s 500ms/step - loss: 1.0674 - accuracy: 0.5273 - val_loss: 0.5864 - val_accuracy: 0.9608\n",
            "Epoch 3/10\n",
            "26/26 [==============================] - 13s 483ms/step - loss: 0.7518 - accuracy: 0.6762 - val_loss: 0.2965 - val_accuracy: 0.9510\n",
            "Epoch 4/10\n",
            "26/26 [==============================] - 13s 505ms/step - loss: 0.4985 - accuracy: 0.7978 - val_loss: 0.1459 - val_accuracy: 0.9706\n",
            "Epoch 5/10\n",
            "26/26 [==============================] - 13s 506ms/step - loss: 0.3750 - accuracy: 0.8672 - val_loss: 0.0895 - val_accuracy: 0.9804\n",
            "Epoch 6/10\n",
            "26/26 [==============================] - 13s 498ms/step - loss: 0.3084 - accuracy: 0.8871 - val_loss: 0.1279 - val_accuracy: 0.9510\n",
            "Epoch 7/10\n",
            "26/26 [==============================] - 14s 550ms/step - loss: 0.3287 - accuracy: 0.9007 - val_loss: 0.0856 - val_accuracy: 0.9706\n",
            "Epoch 8/10\n",
            "26/26 [==============================] - 13s 502ms/step - loss: 0.1938 - accuracy: 0.9330 - val_loss: 0.0980 - val_accuracy: 0.9804\n",
            "Epoch 9/10\n",
            "26/26 [==============================] - 13s 500ms/step - loss: 0.1302 - accuracy: 0.9615 - val_loss: 0.1093 - val_accuracy: 0.9804\n"
          ]
        }
      ],
      "source": [
        "from tensorflow.keras.optimizers import RMSprop\n",
        "\n",
        "model.compile(optimizer=\"Adam\", loss=\"categorical_crossentropy\", metrics=[\"accuracy\"])\n",
        "history = model.fit(train_generator, validation_data=valid_generator, epochs=10, batch_size=32, callbacks=[early_stopping])"
      ]
    },
    {
      "cell_type": "code",
      "execution_count": null,
      "metadata": {
        "id": "llDXUMUC0__q"
      },
      "outputs": [],
      "source": [
        "model.save('/content/drive/MyDrive/data/resnet-model1.keras')"
      ]
    },
    {
      "cell_type": "code",
      "execution_count": null,
      "metadata": {
        "id": "3tGA7d3Q1ljT"
      },
      "outputs": [],
      "source": [
        "test_loss, test_acc = model.evaluate(test_generator)\n",
        "print(\"The test loss is: \", test_loss)\n",
        "print(\"The best accuracy is: \", test_acc)"
      ]
    },
    {
      "cell_type": "code",
      "execution_count": null,
      "metadata": {
        "colab": {
          "base_uri": "https://localhost:8080/"
        },
        "id": "8SuDHFYw1muy",
        "outputId": "9d03b355-24cc-45db-ab6b-76b77d1138ec"
      },
      "outputs": [
        {
          "output_type": "stream",
          "name": "stdout",
          "text": [
            "4/4 [==============================] - 6s 916ms/step\n",
            "[[33  0  2]\n",
            " [ 1 31  1]\n",
            " [ 0  0 33]]\n",
            "\n",
            "Accuracy: 0.9603960396039604\n",
            "Precision: 0.9625800815375655\n",
            "Recall: 0.9603960396039604\n",
            "F1 score: 0.9605171114937581\n"
          ]
        }
      ],
      "source": [
        "import numpy as np\n",
        "from sklearn.metrics import confusion_matrix\n",
        "\n",
        "# Predict classes using the trained model\n",
        "predictions = model.predict(test_generator, verbose=1)\n",
        "\n",
        "# Convert predictions to class labels\n",
        "predicted_classes = np.argmax(predictions, axis=1)\n",
        "\n",
        "# Get true labels\n",
        "true_labels = test_generator.classes\n",
        "\n",
        "# Calculate confusion matrix\n",
        "cm = confusion_matrix(true_labels, predicted_classes)\n",
        "\n",
        "print(cm)\n",
        "\n",
        "from sklearn.metrics import accuracy_score, precision_score, recall_score, f1_score, confusion_matrix\n",
        "\n",
        "print('\\nAccuracy:', accuracy_score(true_labels, predicted_classes))\n",
        "print('Precision:', precision_score(true_labels, predicted_classes, average='weighted'))\n",
        "print('Recall:', recall_score(true_labels, predicted_classes, average='weighted'))\n",
        "print('F1 score:', f1_score(true_labels, predicted_classes, average='weighted'))"
      ]
    },
    {
      "cell_type": "code",
      "execution_count": null,
      "metadata": {
        "colab": {
          "base_uri": "https://localhost:8080/",
          "height": 452
        },
        "id": "wtoDinSY1KuM",
        "outputId": "7a61f4ad-741a-4c14-8847-2ed974c80de8"
      },
      "outputs": [
        {
          "output_type": "display_data",
          "data": {
            "text/plain": [
              "<Figure size 640x480 with 1 Axes>"
            ],
            "image/png": "[encoded data removed]"
          },
          "metadata": {}
        }
      ],
      "source": [
        "import matplotlib.pyplot as plt\n",
        "\n",
        "loss_train_curve = history.history[\"loss\"]\n",
        "loss_val_curve = history.history[\"val_loss\"]\n",
        "plt.plot(loss_train_curve, label = \"Train\")\n",
        "plt.plot(loss_val_curve, label = \"Validation\")\n",
        "plt.legend(loc = 'upper right')\n",
        "plt.title(\"Loss\")\n",
        "plt.show()"
      ]
    },
    {
      "cell_type": "code",
      "execution_count": null,
      "metadata": {
        "colab": {
          "base_uri": "https://localhost:8080/",
          "height": 452
        },
        "id": "V6Jwzi791LUK",
        "outputId": "7a9db73d-d6a1-4cc4-8ca7-0651407070e7"
      },
      "outputs": [
        {
          "output_type": "display_data",
          "data": {
            "text/plain": [
              "<Figure size 640x480 with 1 Axes>"
            ],
            "image/png": "[encoded data removed]"
          },
          "metadata": {}
        }
      ],
      "source": [
        "acc_train_curve = history.history[\"accuracy\"]\n",
        "acc_val_curve = history.history[\"val_accuracy\"]\n",
        "plt.plot(acc_train_curve, label = \"Train\")\n",
        "plt.plot(acc_val_curve, label = \"Validation\")\n",
        "plt.legend(loc = 'lower right')\n",
        "plt.title(\"Accuracy\")\n",
        "plt.show()"
      ]
    }
  ],
  "metadata": {
    "accelerator": "GPU",
    "colab": {
      "provenance": []
    },
    "kernelspec": {
      "display_name": "Python 3",
      "name": "python3"
    },
    "language_info": {
      "name": "python"
    }
  },
  "nbformat": 4,
  "nbformat_minor": 0
}