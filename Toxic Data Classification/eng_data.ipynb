{
  "cells": [
    {
      "cell_type": "code",
      "execution_count": null,
      "metadata": {
        "colab": {
          "base_uri": "https://localhost:8080/"
        },
        "id": "jcn_DAJj8F9U",
        "outputId": "4518ac25-90f2-42fc-f78a-265547238444"
      },
      "outputs": [
        {
          "name": "stdout",
          "output_type": "stream",
          "text": [
            "Mounted at /content/drive\n"
          ]
        }
      ],
      "source": [
        "from google.colab import drive\n",
        "drive.mount('/content/drive')"
      ]
    },
    {
      "cell_type": "markdown",
      "metadata": {
        "id": "VwK5-9FIB-lu"
      },
      "source": [
        "# Bag of words"
      ]
    },
    {
      "cell_type": "markdown",
      "metadata": {
        "id": "kwfgVW6_uoD-"
      },
      "source": [
        "## Get Data"
      ]
    },
    {
      "cell_type": "code",
      "execution_count": null,
      "metadata": {
        "colab": {
          "base_uri": "https://localhost:8080/"
        },
        "id": "anlr3JX4djUT",
        "outputId": "ae803b33-9cfa-4f0d-d41a-d9e010ded7aa"
      },
      "outputs": [
        {
          "name": "stdout",
          "output_type": "stream",
          "text": [
            "database_lenght is 30588\n"
          ]
        },
        {
          "name": "stderr",
          "output_type": "stream",
          "text": [
            "[nltk_data] Downloading package stopwords to /root/nltk_data...\n",
            "[nltk_data]   Unzipping corpora/stopwords.zip.\n"
          ]
        }
      ],
      "source": [
        "import pandas as pd\n",
        "import nltk\n",
        "\n",
        "file_path = '/content/drive/MyDrive/data/train.csv'\n",
        "\n",
        "# Load and preprocess the dataset\n",
        "dataset = pd.read_csv(file_path)\n",
        "\n",
        "# find the amount of 0 and 1 in label in position 2\n",
        "max_dataset_length = 100000\n",
        "not_toxic_count= dataset.iloc[:, 2].value_counts()[0]\n",
        "toxic_count= dataset.iloc[:, 2].value_counts()[1]\n",
        "min_count = min(not_toxic_count, toxic_count, int(max_dataset_length / 2))\n",
        "\n",
        "# get first min count of not toxic and toxic\n",
        "currect_df = dataset[dataset['toxic'] == 0].head(min_count)\n",
        "toxic_df = dataset[dataset['toxic'] == 1].head(min_count)\n",
        "\n",
        "# concat the dataframes\n",
        "dataset = pd.concat([currect_df, toxic_df])\n",
        "dataset_length= len(dataset)\n",
        "print(\"database_lenght is\",dataset_length)\n",
        "\n",
        "# reset dataset index\n",
        "dataset = dataset.reset_index(drop=True)\n",
        "\n",
        "# initialize important variables\n",
        "nltk.download('stopwords')\n",
        "all_stopwords = nltk.corpus.stopwords.words('english')\n",
        "all_stopwords.remove('not')"
      ]
    },
    {
      "cell_type": "markdown",
      "metadata": {
        "id": "Qekztq71CixT"
      },
      "source": [
        "## Cleaning the texts"
      ]
    },
    {
      "cell_type": "markdown",
      "metadata": {
        "id": "pGWO_XO2A2Ha"
      },
      "source": [
        "example\n"
      ]
    },
    {
      "cell_type": "code",
      "execution_count": null,
      "metadata": {
        "colab": {
          "base_uri": "https://localhost:8080/"
        },
        "id": "_Oc-oARhA3xZ",
        "outputId": "8b3a8211-8a3d-429d-ab52-df143bb24cbc"
      },
      "outputs": [
        {
          "name": "stdout",
          "output_type": "stream",
          "text": [
            "Original\n",
            "Why are the edits made under my username 'Hardcore Metallica Fan' were reverted?\n",
            "\n",
            "Puntuations are removed\n",
            "Why are the edits made under my username  Hardcore Metallica Fan  were reverted \n",
            "\n",
            "Words are lowercased\n",
            "why are the edits made under my username  hardcore metallica fan  were reverted \n",
            "\n",
            "Stopwords are removed\n",
            "edits made username hardcore metallica fan reverted\n",
            "\n",
            "Stemming is done \n",
            "edit made usernam hardcor metallica fan revert\n",
            "\n"
          ]
        }
      ],
      "source": [
        "from nltk.stem.porter import PorterStemmer\n",
        "import re\n",
        "\n",
        "ps = PorterStemmer()\n",
        "for i in range(0, 1):\n",
        "    comment = \"Why are the edits made under my username 'Hardcore Metallica Fan' were reverted?\"\n",
        "    print(\"Original\")\n",
        "    print(comment)\n",
        "    print()\n",
        "\n",
        "    comment = re.sub('[^a-zA-Z]', ' ', comment)\n",
        "    print(\"Puntuations are removed\")\n",
        "    print(comment)\n",
        "    print()\n",
        "\n",
        "    comment = comment.lower()\n",
        "    print(\"Words are lowercased\")\n",
        "    print(comment)\n",
        "    print()\n",
        "\n",
        "    words = comment.split()\n",
        "    cleaned_words = [word for word in words if word not in set(all_stopwords)]\n",
        "    print(\"Stopwords are removed\")\n",
        "    print(\" \".join(cleaned_words))\n",
        "    print()\n",
        "\n",
        "    cleaned_words = [ps.stem(word) for word in cleaned_words]\n",
        "    cleaned_text = ' '.join(cleaned_words)\n",
        "    print(\"Stemming is done \")\n",
        "    print(cleaned_text)\n",
        "    print()"
      ]
    },
    {
      "cell_type": "code",
      "execution_count": null,
      "metadata": {
        "id": "8u_yXh9dCmEE"
      },
      "outputs": [],
      "source": [
        "from nltk.stem.porter import PorterStemmer\n",
        "import re\n",
        "\n",
        "ps = PorterStemmer()\n",
        "corpus = []\n",
        "\n",
        "for i in range(0, dataset_length):\n",
        "    comment = dataset['comment_text'][i]\n",
        "    comment = re.sub('[^a-zA-Z]', ' ', comment)\n",
        "    comment = comment.lower()\n",
        "    words = comment.split()\n",
        "    cleaned_words = [ps.stem(word) for word in words if word not in set(all_stopwords)]\n",
        "    cleaned_text = ' '.join(cleaned_words)\n",
        "    corpus.append(cleaned_text)\n"
      ]
    },
    {
      "cell_type": "markdown",
      "metadata": {
        "id": "CLqmAkANCp1-"
      },
      "source": [
        "## Creating the Bag of Words model"
      ]
    },
    {
      "cell_type": "code",
      "execution_count": null,
      "metadata": {
        "colab": {
          "base_uri": "https://localhost:8080/"
        },
        "id": "qroF7XcSCvY3",
        "outputId": "caf6146f-2148-42f4-ae87-44e62a1d0969"
      },
      "outputs": [
        {
          "name": "stdout",
          "output_type": "stream",
          "text": [
            "Number of words: 3500\n",
            "Top 10 words: ['not', 'fuck', 'articl', 'page', 'wikipedia', 'like', 'edit', 'talk', 'go', 'suck']\n"
          ]
        }
      ],
      "source": [
        "from sklearn.feature_extraction.text import CountVectorizer\n",
        "import numpy as np\n",
        "cv = CountVectorizer(max_features = 3500)\n",
        "X = cv.fit_transform(corpus).toarray()\n",
        "\n",
        "num_words = len(cv.vocabulary_)\n",
        "print(\"Number of words:\", num_words)\n",
        "\n",
        "import numpy as np\n",
        "\n",
        "# Sum up the counts of each word (i.e., sum the columns of X)\n",
        "word_counts = np.sum(X, axis=0)\n",
        "\n",
        "# Get the indices of the top 10 words\n",
        "top_word_indices = np.argsort(word_counts)[::-1][:10]\n",
        "\n",
        "# Get the feature names\n",
        "feature_names = cv.get_feature_names_out()\n",
        "\n",
        "# Get the top 10 words\n",
        "top_words = [feature_names[i] for i in top_word_indices]\n",
        "\n",
        "print(\"Top 10 words:\", top_words)"
      ]
    },
    {
      "cell_type": "markdown",
      "metadata": {
        "id": "eSapFFBFumlt"
      },
      "source": [
        "## Splitting the dataset into the Training set and Test set"
      ]
    },
    {
      "cell_type": "code",
      "execution_count": null,
      "metadata": {
        "id": "-1aoQYqrumlv"
      },
      "outputs": [],
      "source": [
        "from sklearn.model_selection import train_test_split\n",
        "y = dataset.iloc[:dataset_length, 2:8].values\n",
        "# Splitting the dataset into the training set and test set\n",
        "X_train, X_test, y_train, y_test = train_test_split(X, y, test_size=0.20, random_state=0)"
      ]
    },
    {
      "cell_type": "markdown",
      "metadata": {
        "id": "WfqogAlAL-rB"
      },
      "source": [
        "## Binary"
      ]
    },
    {
      "cell_type": "code",
      "execution_count": null,
      "metadata": {
        "id": "a51mN1Haf8cK"
      },
      "outputs": [],
      "source": [
        "y_train_binary = y_train[:, 0]\n",
        "y_test_binary = y_test[:, 0]"
      ]
    },
    {
      "cell_type": "markdown",
      "metadata": {
        "id": "VkIq23vEDIPt"
      },
      "source": [
        "### Naive Bayes"
      ]
    },
    {
      "cell_type": "code",
      "execution_count": null,
      "metadata": {
        "colab": {
          "base_uri": "https://localhost:8080/"
        },
        "id": "DS9oiDXXDRdI",
        "outputId": "9e588465-48f6-48a7-afdd-b1a835a3fac5"
      },
      "outputs": [
        {
          "name": "stdout",
          "output_type": "stream",
          "text": [
            "[[2673  390]\n",
            " [ 840 2215]]\n",
            "\n",
            "Accuracy: 0.7989539065053939\n",
            "Precision: 0.8502879078694817\n",
            "Recall: 0.7250409165302782\n",
            "F1 score: 0.7826855123674913\n"
          ]
        }
      ],
      "source": [
        "from sklearn.naive_bayes import GaussianNB\n",
        "from sklearn.metrics import accuracy_score, precision_score, recall_score, f1_score, confusion_matrix\n",
        "\n",
        "classifier = GaussianNB()\n",
        "classifier.fit(X_train, y_train_binary)\n",
        "\n",
        "y_pred = classifier.predict(X_test)\n",
        "\n",
        "from sklearn.metrics import accuracy_score, precision_score, recall_score, f1_score\n",
        "\n",
        "cm = confusion_matrix(y_test_binary, y_pred)\n",
        "print(cm)\n",
        "\n",
        "print('\\nAccuracy:', accuracy_score(y_test_binary, y_pred))\n",
        "print('Precision:', precision_score(y_test_binary, y_pred, pos_label=1))\n",
        "print('Recall:', recall_score(y_test_binary, y_pred, pos_label=1))\n",
        "print('F1 score:', f1_score(y_test_binary, y_pred, pos_label=1))"
      ]
    },
    {
      "cell_type": "markdown",
      "metadata": {
        "id": "JlggvgEKMG6Q"
      },
      "source": [
        "### Logistic Regression"
      ]
    },
    {
      "cell_type": "code",
      "execution_count": null,
      "metadata": {
        "colab": {
          "base_uri": "https://localhost:8080/"
        },
        "id": "cBUfdfnzgr9e",
        "outputId": "8925e004-70bc-4316-a03a-9135bd68ff09"
      },
      "outputs": [
        {
          "name": "stdout",
          "output_type": "stream",
          "text": [
            "[[2815  248]\n",
            " [ 405 2650]]\n",
            "\n",
            "Accuracy: 0.8932657731284733\n",
            "Precision: 0.9144237405106971\n",
            "Recall: 0.867430441898527\n",
            "F1 score: 0.890307408029565\n"
          ]
        }
      ],
      "source": [
        "from sklearn.linear_model import LogisticRegression\n",
        "from sklearn.metrics import accuracy_score, precision_score, recall_score, f1_score, confusion_matrix\n",
        "\n",
        "clf = LogisticRegression(max_iter = 500)\n",
        "clf.fit(X_train, y_train_binary)\n",
        "\n",
        "y_pred = clf.predict(X_test)\n",
        "\n",
        "from sklearn.metrics import accuracy_score, precision_score, recall_score, f1_score\n",
        "\n",
        "cm = confusion_matrix(y_test_binary, y_pred)\n",
        "print(cm)\n",
        "\n",
        "print('\\nAccuracy:', accuracy_score(y_test_binary, y_pred))\n",
        "print('Precision:', precision_score(y_test_binary, y_pred, pos_label=1))\n",
        "print('Recall:', recall_score(y_test_binary, y_pred, pos_label=1))\n",
        "print('F1 score:', f1_score(y_test_binary, y_pred, pos_label=1))"
      ]
    },
    {
      "cell_type": "markdown",
      "metadata": {
        "id": "Imf2NkpNMR5h"
      },
      "source": [
        "## Multilabel"
      ]
    },
    {
      "cell_type": "markdown",
      "metadata": {
        "id": "p27p3RJ5MVA_"
      },
      "source": [
        "### Naive Bayes"
      ]
    },
    {
      "cell_type": "code",
      "execution_count": null,
      "metadata": {
        "colab": {
          "base_uri": "https://localhost:8080/"
        },
        "id": "7PRH7wKfMVA_",
        "outputId": "56e100ac-501d-483d-c166-4d06d123a938"
      },
      "outputs": [
        {
          "name": "stdout",
          "output_type": "stream",
          "text": [
            "Multilabel Confusion Matrix:\n",
            "[[[2823  240]\n",
            "  [ 562 2493]]\n",
            "\n",
            " [[5514  279]\n",
            "  [ 135  190]]\n",
            "\n",
            " [[4195  377]\n",
            "  [ 358 1188]]\n",
            "\n",
            " [[5880  145]\n",
            "  [  53   40]]\n",
            "\n",
            " [[4166  477]\n",
            "  [ 451 1024]]\n",
            "\n",
            " [[5613  242]\n",
            "  [ 127  136]]]\n",
            "\n",
            "Accuracy: 0.6163779012749264\n",
            "F1 score: 0.7579390890649393\n",
            "Precision: 0.7714900738665508\n",
            "Recall: 0.7504809826846234\n"
          ]
        }
      ],
      "source": [
        "from sklearn.naive_bayes import MultinomialNB\n",
        "from sklearn.multioutput import MultiOutputClassifier\n",
        "from sklearn.metrics import accuracy_score, precision_score, recall_score, f1_score\n",
        "from sklearn.metrics import multilabel_confusion_matrix\n",
        "\n",
        "classifier = MultiOutputClassifier(MultinomialNB())\n",
        "classifier.fit(X_train, y_train)\n",
        "\n",
        "y_pred = classifier.predict(X_test)\n",
        "\n",
        "mcm = multilabel_confusion_matrix(y_test, y_pred)\n",
        "print(\"Multilabel Confusion Matrix:\")\n",
        "print(mcm)\n",
        "\n",
        "print('\\nAccuracy:', accuracy_score(y_test, y_pred))\n",
        "print('F1 score:', f1_score(y_test, y_pred, average='weighted'))\n",
        "# print precision\n",
        "print('Precision:', precision_score(y_test, y_pred, average='weighted'))\n",
        "# print recall\n",
        "print('Recall:', recall_score(y_test, y_pred, average='weighted'))"
      ]
    },
    {
      "cell_type": "markdown",
      "metadata": {
        "id": "nCzzh1MsMVBA"
      },
      "source": [
        "### Logistic Regression"
      ]
    },
    {
      "cell_type": "code",
      "execution_count": null,
      "metadata": {
        "colab": {
          "base_uri": "https://localhost:8080/"
        },
        "id": "0u_4N5r9MVBA",
        "outputId": "5a806589-87b5-40dd-e8ac-a45706845988"
      },
      "outputs": [
        {
          "name": "stdout",
          "output_type": "stream",
          "text": [
            "Multilabel Confusion Matrix:\n",
            "[[[2815  248]\n",
            "  [ 405 2650]]\n",
            "\n",
            " [[5709   84]\n",
            "  [ 243   82]]\n",
            "\n",
            " [[4381  191]\n",
            "  [ 370 1176]]\n",
            "\n",
            " [[5988   37]\n",
            "  [  74   19]]\n",
            "\n",
            " [[4345  298]\n",
            "  [ 616  859]]\n",
            "\n",
            " [[5791   64]\n",
            "  [ 223   40]]]\n",
            "\n",
            "Accuracy: 0.6518470088264139\n",
            "Precision: 0.8395963813500348\n",
            "Recall: 0.7142222879976321\n",
            "F1 score: 0.7718512594962016\n"
          ]
        }
      ],
      "source": [
        "from sklearn.linear_model import LogisticRegression\n",
        "from sklearn.multiclass import OneVsRestClassifier\n",
        "from sklearn.metrics import accuracy_score, precision_score, recall_score, f1_score\n",
        "from sklearn.metrics import multilabel_confusion_matrix\n",
        "\n",
        "# Create a OneVsRestClassifier object with LogisticRegression\n",
        "model = OneVsRestClassifier(LogisticRegression(max_iter = 2000,  solver='liblinear'))\n",
        "\n",
        "# Fit the model to the scaled data.\n",
        "model.fit(X_train, y_train)\n",
        "\n",
        "# Predict labels for test data\n",
        "y_pred = model.predict(X_test)\n",
        "\n",
        "# Calculate multilabel confusion matrix\n",
        "mcm = multilabel_confusion_matrix(y_test, y_pred)\n",
        "print(\"Multilabel Confusion Matrix:\")\n",
        "print(mcm)\n",
        "print('\\nAccuracy:', accuracy_score(y_test, y_pred))\n",
        "print('Precision:', precision_score(y_test, y_pred, average='micro'))\n",
        "print('Recall:', recall_score(y_test, y_pred, average='micro'))\n",
        "print('F1 score:', f1_score(y_test, y_pred, average='micro'))"
      ]
    },
    {
      "cell_type": "markdown",
      "metadata": {
        "id": "CMP4rNO4xmWD"
      },
      "source": [
        "# Word2Vec"
      ]
    },
    {
      "cell_type": "code",
      "execution_count": null,
      "metadata": {
        "colab": {
          "base_uri": "https://localhost:8080/"
        },
        "id": "_2hLbeoffeKo",
        "outputId": "ebd6abdb-f240-42c5-ed67-3ea516091fae"
      },
      "outputs": [
        {
          "name": "stdout",
          "output_type": "stream",
          "text": [
            "database_lenght is 30588\n"
          ]
        },
        {
          "name": "stderr",
          "output_type": "stream",
          "text": [
            "[nltk_data] Downloading package stopwords to /root/nltk_data...\n",
            "[nltk_data]   Package stopwords is already up-to-date!\n"
          ]
        }
      ],
      "source": [
        "import pandas as pd\n",
        "import nltk\n",
        "\n",
        "file_path = '/content/drive/MyDrive/data/train.csv'\n",
        "\n",
        "# Load and preprocess the dataset\n",
        "dataset = pd.read_csv(file_path)\n",
        "\n",
        "# find the amount of 0 and 1 in label in position 2\n",
        "max_dataset_length = 100000\n",
        "not_toxic_count= dataset.iloc[:, 2].value_counts()[0]\n",
        "toxic_count= dataset.iloc[:, 2].value_counts()[1]\n",
        "min_count = min(not_toxic_count, toxic_count, int(max_dataset_length / 2))\n",
        "\n",
        "# get first min count of not toxic and toxic\n",
        "currect_df = dataset[dataset['toxic'] == 0].head(min_count)\n",
        "toxic_df = dataset[dataset['toxic'] == 1].head(min_count)\n",
        "\n",
        "# concat the dataframes\n",
        "dataset = pd.concat([currect_df, toxic_df])\n",
        "dataset_length= len(dataset)\n",
        "print(\"database_lenght is\",dataset_length)\n",
        "\n",
        "# reset dataset index\n",
        "dataset = dataset.reset_index(drop=True)\n",
        "\n",
        "# initialize important variables\n",
        "nltk.download('stopwords')\n",
        "all_stopwords = nltk.corpus.stopwords.words('english')\n",
        "all_stopwords.remove('not')"
      ]
    },
    {
      "cell_type": "markdown",
      "metadata": {
        "id": "k-uxAZnpXpKE"
      },
      "source": [
        "## Split data"
      ]
    },
    {
      "cell_type": "code",
      "execution_count": null,
      "metadata": {
        "id": "6I-4YfNgKjyW"
      },
      "outputs": [],
      "source": [
        "from sklearn.model_selection import train_test_split\n",
        "\n",
        "# Load the data\n",
        "X_train, X_test, y_train, y_test = train_test_split(dataset['comment_text'], dataset.iloc[:,2:8].values, test_size=0.2, random_state=42)"
      ]
    },
    {
      "cell_type": "markdown",
      "metadata": {
        "id": "LvflmHQVXlPf"
      },
      "source": [
        "## Preprocess the data"
      ]
    },
    {
      "cell_type": "code",
      "execution_count": null,
      "metadata": {
        "colab": {
          "base_uri": "https://localhost:8080/"
        },
        "id": "DaewC8XNKxz0",
        "outputId": "76b37567-6a35-48fb-9479-631379bdc511"
      },
      "outputs": [
        {
          "name": "stderr",
          "output_type": "stream",
          "text": [
            "[nltk_data] Downloading package punkt to /root/nltk_data...\n",
            "[nltk_data]   Package punkt is already up-to-date!\n"
          ]
        }
      ],
      "source": [
        "from nltk.tokenize import word_tokenize\n",
        "from nltk.stem.porter import PorterStemmer\n",
        "import re\n",
        "nltk.download('punkt')\n",
        "\n",
        "ps = PorterStemmer()\n",
        "\n",
        "def preprocess(comment):\n",
        "    comment = re.sub('[^a-zA-Z]', ' ', comment)\n",
        "    comment = comment.lower()\n",
        "    words = word_tokenize(comment)\n",
        "    cleaned_words = [ps.stem(word) for word in words if word not in set(all_stopwords)]\n",
        "    cleaned_text = ' '.join(cleaned_words)\n",
        "    return cleaned_text\n",
        "\n",
        "X_train = X_train.apply(preprocess)\n",
        "X_test = X_test.apply(preprocess)"
      ]
    },
    {
      "cell_type": "markdown",
      "metadata": {
        "id": "vPoyI8wrXx9J"
      },
      "source": [
        "## create the word2vec model"
      ]
    },
    {
      "cell_type": "code",
      "execution_count": null,
      "metadata": {
        "colab": {
          "base_uri": "https://localhost:8080/"
        },
        "id": "SXIbM-8RK6VL",
        "outputId": "72b234f6-2dbf-4f5c-ee64-61e0112eb4cc"
      },
      "outputs": [
        {
          "name": "stdout",
          "output_type": "stream",
          "text": [
            "Word2Vec<vocab=9263, vector_size=100, alpha=0.025>\n"
          ]
        }
      ],
      "source": [
        "from gensim.models import Word2Vec\n",
        "\n",
        "sentences = [sentence.split() for sentence in X_train]\n",
        "w2v_model = Word2Vec(sentences, vector_size=100, window=5, min_count=5, workers=4)\n",
        "print(w2v_model)"
      ]
    },
    {
      "cell_type": "code",
      "execution_count": null,
      "metadata": {
        "colab": {
          "base_uri": "https://localhost:8080/",
          "height": 430
        },
        "id": "VsZdUm-qn1hd",
        "outputId": "8f4208c6-10c0-4ef0-c9d1-e4a778f33dff"
      },
      "outputs": [
        {
          "data": {
            "image/png": "[encoded data removed]",
            "text/plain": [
              "<Figure size 640x480 with 1 Axes>"
            ]
          },
          "metadata": {},
          "output_type": "display_data"
        }
      ],
      "source": [
        "from sklearn.decomposition import PCA\n",
        "import matplotlib.pyplot as plt\n",
        "\n",
        "# Get the 100 most common words\n",
        "common_words = w2v_model.wv.get_normed_vectors()[:50]\n",
        "\n",
        "# Fit a PCA transformer to the vector data\n",
        "pca = PCA(n_components=2)\n",
        "result = pca.fit_transform(common_words)\n",
        "\n",
        "# Create a scatter plot of the projection\n",
        "plt.scatter(result[:, 0], result[:, 1])\n",
        "\n",
        "# Annotate the points on the graph with the words themselves\n",
        "words = list(w2v_model.wv.index_to_key)[:50]\n",
        "for i, word in enumerate(words):\n",
        "    plt.annotate(word, xy=(result[i, 0], result[i, 1]))\n",
        "\n",
        "plt.show()"
      ]
    },
    {
      "cell_type": "code",
      "execution_count": null,
      "metadata": {
        "id": "Ra1tKoAtK80U"
      },
      "outputs": [],
      "source": [
        "import numpy as np\n",
        "\n",
        "def vectorize(sentence):\n",
        "    words = sentence.split()\n",
        "    words_vecs = [w2v_model.wv[word] for word in words if word in w2v_model.wv]\n",
        "    if len(words_vecs) == 0:\n",
        "        return np.zeros(100)\n",
        "    words_vecs = np.array(words_vecs)\n",
        "    return words_vecs.mean(axis=0)\n",
        "\n",
        "X_train = np.array([vectorize(sentence) for sentence in X_train])\n",
        "X_test = np.array([vectorize(sentence) for sentence in X_test])"
      ]
    },
    {
      "cell_type": "markdown",
      "metadata": {
        "id": "_pTvQ8rIRqt0"
      },
      "source": [
        "## Binary"
      ]
    },
    {
      "cell_type": "code",
      "execution_count": null,
      "metadata": {
        "id": "eeQ1IBtXW_pu"
      },
      "outputs": [],
      "source": [
        "y_train_binary = y_train[:, 0]\n",
        "y_test_binary = y_test[:, 0]"
      ]
    },
    {
      "cell_type": "markdown",
      "metadata": {
        "id": "uystxAn-X5X5"
      },
      "source": [
        "### Logistic Regression"
      ]
    },
    {
      "cell_type": "code",
      "execution_count": null,
      "metadata": {
        "colab": {
          "base_uri": "https://localhost:8080/"
        },
        "id": "GDM84WaGK_O9",
        "outputId": "3951b6a9-e8a4-485c-ce72-d96e0c8d8da7"
      },
      "outputs": [
        {
          "name": "stdout",
          "output_type": "stream",
          "text": [
            "[[2790  331]\n",
            " [ 528 2469]]\n",
            "\n",
            "Accuracy: 0.8595946387708402\n",
            "Precision: 0.8817857142857143\n",
            "Recall: 0.8238238238238238\n",
            "F1 score: 0.8518199068483697\n"
          ]
        }
      ],
      "source": [
        "from sklearn.linear_model import LogisticRegression\n",
        "\n",
        "clf = LogisticRegression(max_iter = 1000)\n",
        "clf.fit(X_train, y_train_binary)\n",
        "\n",
        "y_pred = clf.predict(X_test)\n",
        "from sklearn.metrics import accuracy_score, precision_score, recall_score, f1_score, confusion_matrix\n",
        "\n",
        "\n",
        "cm = confusion_matrix(y_test_binary, y_pred)\n",
        "print(cm)\n",
        "\n",
        "print('\\nAccuracy:', accuracy_score(y_test_binary, y_pred))\n",
        "print('Precision:', precision_score(y_test_binary, y_pred, pos_label=1))\n",
        "print('Recall:', recall_score(y_test_binary, y_pred, pos_label=1))\n",
        "print('F1 score:', f1_score(y_test_binary, y_pred, pos_label=1))"
      ]
    },
    {
      "cell_type": "markdown",
      "metadata": {
        "id": "i70O4lKah3sq"
      },
      "source": [
        "### Naive Bayes"
      ]
    },
    {
      "cell_type": "code",
      "execution_count": null,
      "metadata": {
        "colab": {
          "base_uri": "https://localhost:8080/"
        },
        "id": "_zck9ZzegKu2",
        "outputId": "45212afd-743e-4586-a056-d18df4802980"
      },
      "outputs": [
        {
          "name": "stdout",
          "output_type": "stream",
          "text": [
            "[[2781  340]\n",
            " [1043 1954]]\n",
            "\n",
            "Accuracy: 0.7739457338999673\n",
            "Precision: 0.8517872711421098\n",
            "Recall: 0.6519853186519853\n",
            "F1 score: 0.7386127386127387\n"
          ]
        }
      ],
      "source": [
        "# Train a naive bayes classification model\n",
        "from sklearn.naive_bayes import GaussianNB\n",
        "clf = GaussianNB()\n",
        "clf.fit(X_train, y_train_binary)\n",
        "\n",
        "y_pred = clf.predict(X_test)\n",
        "\n",
        "from sklearn.metrics import accuracy_score, precision_score, recall_score, f1_score\n",
        "\n",
        "cm = confusion_matrix(y_test_binary, y_pred)\n",
        "print(cm)\n",
        "\n",
        "print('\\nAccuracy:', accuracy_score(y_test_binary, y_pred))\n",
        "print('Precision:', precision_score(y_test_binary, y_pred, pos_label=1))\n",
        "print('Recall:', recall_score(y_test_binary, y_pred, pos_label=1))\n",
        "print('F1 score:', f1_score(y_test_binary, y_pred, pos_label=1))"
      ]
    },
    {
      "cell_type": "markdown",
      "metadata": {
        "id": "xWY6D_ZKR0dg"
      },
      "source": [
        "## Multilabel"
      ]
    },
    {
      "cell_type": "markdown",
      "metadata": {
        "id": "Oo9ImUdDR0dh"
      },
      "source": [
        "### Logistic Regression"
      ]
    },
    {
      "cell_type": "code",
      "execution_count": null,
      "metadata": {
        "colab": {
          "base_uri": "https://localhost:8080/"
        },
        "id": "MMkG2uPaR0dh",
        "outputId": "d8fa4047-999c-4aa7-a405-3d6b8d0f0561"
      },
      "outputs": [
        {
          "name": "stdout",
          "output_type": "stream",
          "text": [
            "Multilabel Confusion Matrix:\n",
            "[[[2789  332]\n",
            "  [ 528 2469]]\n",
            "\n",
            " [[5758   54]\n",
            "  [ 244   62]]\n",
            "\n",
            " [[4377  195]\n",
            "  [ 542 1004]]\n",
            "\n",
            " [[6029    4]\n",
            "  [  73   12]]\n",
            "\n",
            " [[4444  256]\n",
            "  [ 677  741]]\n",
            "\n",
            " [[5844   22]\n",
            "  [ 228   24]]]\n",
            "\n",
            "Accuracy: 0.6305982347172279\n",
            "Precision: 0.8332367149758454\n",
            "Recall: 0.6529376135675349\n",
            "F1 score: 0.7321504372187793\n"
          ]
        }
      ],
      "source": [
        "from sklearn.linear_model import LogisticRegression\n",
        "from sklearn.multiclass import OneVsRestClassifier\n",
        "from sklearn.metrics import accuracy_score, precision_score, recall_score, f1_score\n",
        "from sklearn.metrics import multilabel_confusion_matrix\n",
        "\n",
        "# Create a OneVsRestClassifier object with LogisticRegression\n",
        "model = OneVsRestClassifier(LogisticRegression(max_iter = 2000,  solver='liblinear'))\n",
        "\n",
        "# Fit the model to the scaled data.\n",
        "model.fit(X_train, y_train)\n",
        "\n",
        "# Predict labels for test data\n",
        "y_pred = model.predict(X_test)\n",
        "\n",
        "# Calculate multilabel confusion matrix\n",
        "mcm = multilabel_confusion_matrix(y_test, y_pred)\n",
        "print(\"Multilabel Confusion Matrix:\")\n",
        "print(mcm)\n",
        "\n",
        "print('\\nAccuracy:', accuracy_score(y_test, y_pred))\n",
        "print('Precision:', precision_score(y_test, y_pred, average='micro'))\n",
        "print('Recall:', recall_score(y_test, y_pred, average='micro'))\n",
        "print('F1 score:', f1_score(y_test, y_pred, average='micro'))"
      ]
    },
    {
      "cell_type": "markdown",
      "metadata": {
        "id": "cDOUhjMGR0di"
      },
      "source": [
        "### Naive Bayes"
      ]
    },
    {
      "cell_type": "code",
      "execution_count": null,
      "metadata": {
        "colab": {
          "base_uri": "https://localhost:8080/"
        },
        "id": "442sAXXaR0di",
        "outputId": "7ec3af93-3e75-404f-bbc0-9bac613275e4"
      },
      "outputs": [
        {
          "name": "stdout",
          "output_type": "stream",
          "text": [
            "Multilabel Confusion Matrix:\n",
            "[[[2799  322]\n",
            "  [ 828 2169]]\n",
            "\n",
            " [[5812    0]\n",
            "  [ 306    0]]\n",
            "\n",
            " [[4564    8]\n",
            "  [1434  112]]\n",
            "\n",
            " [[6033    0]\n",
            "  [  85    0]]\n",
            "\n",
            " [[4683   17]\n",
            "  [1348   70]]\n",
            "\n",
            " [[5866    0]\n",
            "  [ 252    0]]]\n",
            "\n",
            "Accuracy: 0.562111801242236\n",
            "F1 score: 0.4101691175664351\n",
            "Precision: 0.7864089345536103\n",
            "Recall: 0.3559963658388855\n"
          ]
        },
        {
          "name": "stderr",
          "output_type": "stream",
          "text": [
            "/usr/local/lib/python3.10/dist-packages/sklearn/metrics/_classification.py:1344: UndefinedMetricWarning: Precision is ill-defined and being set to 0.0 in labels with no predicted samples. Use `zero_division` parameter to control this behavior.\n",
            "  _warn_prf(average, modifier, msg_start, len(result))\n"
          ]
        }
      ],
      "source": [
        "from sklearn.preprocessing import MinMaxScaler\n",
        "\n",
        "scaler = MinMaxScaler()\n",
        "scaler.fit(X_train)\n",
        "X_train = scaler.transform(X_train)\n",
        "X_test = scaler.transform(X_test)\n",
        "\n",
        "from sklearn.naive_bayes import MultinomialNB\n",
        "from sklearn.multioutput import MultiOutputClassifier\n",
        "from sklearn.metrics import accuracy_score, precision_score, recall_score, f1_score\n",
        "from sklearn.metrics import multilabel_confusion_matrix\n",
        "\n",
        "classifier = MultiOutputClassifier(MultinomialNB())\n",
        "classifier.fit(X_train, y_train)\n",
        "\n",
        "y_pred = classifier.predict(X_test)\n",
        "\n",
        "mcm = multilabel_confusion_matrix(y_test, y_pred)\n",
        "print(\"Multilabel Confusion Matrix:\")\n",
        "print(mcm)\n",
        "\n",
        "print('\\nAccuracy:', accuracy_score(y_test, y_pred))\n",
        "print('F1 score:', f1_score(y_test, y_pred, average='weighted'))\n",
        "# print precision\n",
        "print('Precision:', precision_score(y_test, y_pred, average='weighted'))\n",
        "# print recall\n",
        "print('Recall:', recall_score(y_test, y_pred, average='weighted'))"
      ]
    },
    {
      "cell_type": "markdown",
      "metadata": {
        "id": "-VdOXITdxqjZ"
      },
      "source": [
        "# Fine Tuning Bert (binary)\n"
      ]
    },
    {
      "cell_type": "code",
      "execution_count": null,
      "metadata": {
        "colab": {
          "base_uri": "https://localhost:8080/"
        },
        "id": "bPBzG_KazdcU",
        "outputId": "879e253a-7ee3-4d2f-f458-0a25c80dfeb2"
      },
      "outputs": [
        {
          "name": "stdout",
          "output_type": "stream",
          "text": [
            "database_lenght is 30588\n"
          ]
        },
        {
          "name": "stderr",
          "output_type": "stream",
          "text": [
            "[nltk_data] Downloading package stopwords to /root/nltk_data...\n",
            "[nltk_data]   Package stopwords is already up-to-date!\n"
          ]
        }
      ],
      "source": [
        "import pandas as pd\n",
        "import nltk\n",
        "\n",
        "file_path = '/content/drive/MyDrive/data/train.csv'\n",
        "\n",
        "# Load and preprocess the dataset\n",
        "dataset = pd.read_csv(file_path)\n",
        "\n",
        "# find the amount of 0 and 1 in label in position 2\n",
        "max_dataset_length = 100000\n",
        "not_toxic_count= dataset.iloc[:, 2].value_counts()[0]\n",
        "toxic_count= dataset.iloc[:, 2].value_counts()[1]\n",
        "min_count = min(not_toxic_count, toxic_count, int(max_dataset_length / 2))\n",
        "\n",
        "# get first min count of not toxic and toxic\n",
        "currect_df = dataset[dataset['toxic'] == 0].head(min_count)\n",
        "toxic_df = dataset[dataset['toxic'] == 1].head(min_count)\n",
        "\n",
        "# concat the dataframes\n",
        "dataset = pd.concat([currect_df, toxic_df])\n",
        "dataset_length= len(dataset)\n",
        "print(\"database_lenght is\",dataset_length)\n",
        "\n",
        "# reset dataset index\n",
        "dataset = dataset.reset_index(drop=True)"
      ]
    },
    {
      "cell_type": "markdown",
      "metadata": {
        "id": "YNM6IG0yhRY_"
      },
      "source": [
        "## Load Trained Model"
      ]
    },
    {
      "cell_type": "code",
      "execution_count": null,
      "metadata": {
        "colab": {
          "base_uri": "https://localhost:8080/"
        },
        "id": "9LcRb1w9uqPX",
        "outputId": "9025cfec-51a0-4f15-9363-86c1ec8f43b7"
      },
      "outputs": [
        {
          "name": "stderr",
          "output_type": "stream",
          "text": [
            "Some weights of the PyTorch model were not used when initializing the TF 2.0 model TFBertModel: ['cls.predictions.bias', 'cls.seq_relationship.weight', 'cls.predictions.transform.dense.bias', 'cls.predictions.transform.LayerNorm.weight', 'cls.seq_relationship.bias', 'cls.predictions.transform.LayerNorm.bias', 'cls.predictions.transform.dense.weight']\n",
            "- This IS expected if you are initializing TFBertModel from a PyTorch model trained on another task or with another architecture (e.g. initializing a TFBertForSequenceClassification model from a BertForPreTraining model).\n",
            "- This IS NOT expected if you are initializing TFBertModel from a PyTorch model that you expect to be exactly identical (e.g. initializing a TFBertForSequenceClassification model from a BertForSequenceClassification model).\n",
            "All the weights of TFBertModel were initialized from the PyTorch model.\n",
            "If your task is similar to the task the model of the checkpoint was trained on, you can already use TFBertModel for predictions without further training.\n"
          ]
        }
      ],
      "source": [
        "import tensorflow as tf\n",
        "from transformers import TFAutoModel, AutoTokenizer\n",
        "\n",
        "model = TFAutoModel.from_pretrained(\"bert-base-uncased\")"
      ]
    },
    {
      "cell_type": "markdown",
      "metadata": {
        "id": "IMli7gld8ks-"
      },
      "source": [
        "## Load Trained Tokenizer"
      ]
    },
    {
      "cell_type": "code",
      "execution_count": null,
      "metadata": {
        "id": "eFBP4d8fuzIC"
      },
      "outputs": [],
      "source": [
        "tokenizer = AutoTokenizer.from_pretrained(\"bert-base-uncased\")"
      ]
    },
    {
      "cell_type": "markdown",
      "metadata": {
        "id": "0w8lvvUY8t5f"
      },
      "source": [
        "## Change Data According to The model"
      ]
    },
    {
      "cell_type": "code",
      "execution_count": null,
      "metadata": {
        "id": "HoKvXm7Y3S9n"
      },
      "outputs": [],
      "source": [
        "correct_columns = ['comment_text', 'toxic']\n",
        "dataset = dataset.loc[: , correct_columns]\n",
        "dataset.columns =  ['comment_text', 'label']"
      ]
    },
    {
      "cell_type": "markdown",
      "metadata": {
        "id": "8ZcCUiUF6fAP"
      },
      "source": [
        "## Split the dataset into training, validation and test"
      ]
    },
    {
      "cell_type": "code",
      "execution_count": null,
      "metadata": {
        "id": "tVi9dyuE6eoV"
      },
      "outputs": [],
      "source": [
        "from sklearn.model_selection import train_test_split\n",
        "\n",
        "\n",
        "train_texts, temp_texts, train_labels, temp_labels = train_test_split(dataset['comment_text'], dataset['label'],\n",
        "                                                                    random_state = 2018,\n",
        "                                                                    test_size = 0.3,\n",
        "                                                                    stratify = dataset['label'])\n",
        "\n",
        "\n",
        "val_texts, test_texts, val_labels, test_labels = train_test_split(temp_texts, temp_labels,\n",
        "                                                                random_state = 2018,\n",
        "                                                                test_size = 0.5,\n",
        "                                                                stratify = temp_labels)\n",
        "\n",
        "# print(train_texts.tolist())"
      ]
    },
    {
      "cell_type": "code",
      "execution_count": null,
      "metadata": {
        "colab": {
          "base_uri": "https://localhost:8080/"
        },
        "id": "KD6xnW9F1hqX",
        "outputId": "5a2c1fc4-1fde-4d3e-aeb5-2746b9b9ee3b"
      },
      "outputs": [
        {
          "name": "stdout",
          "output_type": "stream",
          "text": [
            "Requirement already satisfied: datasets in /usr/local/lib/python3.10/dist-packages (2.15.0)\n",
            "Requirement already satisfied: numpy>=1.17 in /usr/local/lib/python3.10/dist-packages (from datasets) (1.23.5)\n",
            "Requirement already satisfied: pyarrow>=8.0.0 in /usr/local/lib/python3.10/dist-packages (from datasets) (10.0.1)\n",
            "Requirement already satisfied: pyarrow-hotfix in /usr/local/lib/python3.10/dist-packages (from datasets) (0.6)\n",
            "Requirement already satisfied: dill<0.3.8,>=0.3.0 in /usr/local/lib/python3.10/dist-packages (from datasets) (0.3.7)\n",
            "Requirement already satisfied: pandas in /usr/local/lib/python3.10/dist-packages (from datasets) (1.5.3)\n",
            "Requirement already satisfied: requests>=2.19.0 in /usr/local/lib/python3.10/dist-packages (from datasets) (2.31.0)\n",
            "Requirement already satisfied: tqdm>=4.62.1 in /usr/local/lib/python3.10/dist-packages (from datasets) (4.66.1)\n",
            "Requirement already satisfied: xxhash in /usr/local/lib/python3.10/dist-packages (from datasets) (3.4.1)\n",
            "Requirement already satisfied: multiprocess in /usr/local/lib/python3.10/dist-packages (from datasets) (0.70.15)\n",
            "Requirement already satisfied: fsspec[http]<=2023.10.0,>=2023.1.0 in /usr/local/lib/python3.10/dist-packages (from datasets) (2023.6.0)\n",
            "Requirement already satisfied: aiohttp in /usr/local/lib/python3.10/dist-packages (from datasets) (3.9.1)\n",
            "Requirement already satisfied: huggingface-hub>=0.18.0 in /usr/local/lib/python3.10/dist-packages (from datasets) (0.19.4)\n",
            "Requirement already satisfied: packaging in /usr/local/lib/python3.10/dist-packages (from datasets) (23.2)\n",
            "Requirement already satisfied: pyyaml>=5.1 in /usr/local/lib/python3.10/dist-packages (from datasets) (6.0.1)\n",
            "Requirement already satisfied: attrs>=17.3.0 in /usr/local/lib/python3.10/dist-packages (from aiohttp->datasets) (23.1.0)\n",
            "Requirement already satisfied: multidict<7.0,>=4.5 in /usr/local/lib/python3.10/dist-packages (from aiohttp->datasets) (6.0.4)\n",
            "Requirement already satisfied: yarl<2.0,>=1.0 in /usr/local/lib/python3.10/dist-packages (from aiohttp->datasets) (1.9.4)\n",
            "Requirement already satisfied: frozenlist>=1.1.1 in /usr/local/lib/python3.10/dist-packages (from aiohttp->datasets) (1.4.1)\n",
            "Requirement already satisfied: aiosignal>=1.1.2 in /usr/local/lib/python3.10/dist-packages (from aiohttp->datasets) (1.3.1)\n",
            "Requirement already satisfied: async-timeout<5.0,>=4.0 in /usr/local/lib/python3.10/dist-packages (from aiohttp->datasets) (4.0.3)\n",
            "Requirement already satisfied: filelock in /usr/local/lib/python3.10/dist-packages (from huggingface-hub>=0.18.0->datasets) (3.13.1)\n",
            "Requirement already satisfied: typing-extensions>=3.7.4.3 in /usr/local/lib/python3.10/dist-packages (from huggingface-hub>=0.18.0->datasets) (4.5.0)\n",
            "Requirement already satisfied: charset-normalizer<4,>=2 in /usr/local/lib/python3.10/dist-packages (from requests>=2.19.0->datasets) (3.3.2)\n",
            "Requirement already satisfied: idna<4,>=2.5 in /usr/local/lib/python3.10/dist-packages (from requests>=2.19.0->datasets) (3.6)\n",
            "Requirement already satisfied: urllib3<3,>=1.21.1 in /usr/local/lib/python3.10/dist-packages (from requests>=2.19.0->datasets) (2.0.7)\n",
            "Requirement already satisfied: certifi>=2017.4.17 in /usr/local/lib/python3.10/dist-packages (from requests>=2.19.0->datasets) (2023.11.17)\n",
            "Requirement already satisfied: python-dateutil>=2.8.1 in /usr/local/lib/python3.10/dist-packages (from pandas->datasets) (2.8.2)\n",
            "Requirement already satisfied: pytz>=2020.1 in /usr/local/lib/python3.10/dist-packages (from pandas->datasets) (2023.3.post1)\n",
            "Requirement already satisfied: six>=1.5 in /usr/local/lib/python3.10/dist-packages (from python-dateutil>=2.8.1->pandas->datasets) (1.16.0)\n"
          ]
        }
      ],
      "source": [
        "!pip install datasets\n",
        "from datasets import Dataset, DatasetDict\n",
        "\n",
        "# Convert lists to datasets\n",
        "train_dataset = Dataset.from_dict({'text': train_texts, 'label': train_labels})\n",
        "test_dataset = Dataset.from_dict({'text': test_texts, 'label': test_labels})  # Replace with your test data\n",
        "validation_dataset = Dataset.from_dict({'text': val_texts, 'label': val_labels})  # Replace with your validation data\n",
        "\n",
        "# Combine datasets into a DatasetDict\n",
        "dataset = DatasetDict({'train': train_dataset, 'test': test_dataset, 'validation': validation_dataset})\n"
      ]
    },
    {
      "cell_type": "code",
      "execution_count": null,
      "metadata": {
        "colab": {
          "base_uri": "https://localhost:8080/"
        },
        "id": "BNmu-grxBNAf",
        "outputId": "80fcea83-8e08-47cc-845e-5d088d921863"
      },
      "outputs": [
        {
          "data": {
            "text/plain": [
              "DatasetDict({\n",
              "    train: Dataset({\n",
              "        features: ['text', 'label'],\n",
              "        num_rows: 21411\n",
              "    })\n",
              "    test: Dataset({\n",
              "        features: ['text', 'label'],\n",
              "        num_rows: 4589\n",
              "    })\n",
              "    validation: Dataset({\n",
              "        features: ['text', 'label'],\n",
              "        num_rows: 4588\n",
              "    })\n",
              "})"
            ]
          },
          "execution_count": 26,
          "metadata": {},
          "output_type": "execute_result"
        }
      ],
      "source": [
        "dataset"
      ]
    },
    {
      "cell_type": "code",
      "execution_count": null,
      "metadata": {
        "colab": {
          "base_uri": "https://localhost:8080/",
          "height": 113,
          "referenced_widgets": [
            "4f5be486d9264e95bd3086749998a90f",
            "de1fd9850ba54b7ab4623e3e0f0ebab4",
            "769c2bd30c6449db93782fbbb82787ac",
            "59ec287faf724054b0612ae6762525e6",
            "159b35f8888642df9a34aab77f8a81b1",
            "df78b65713224a2a8337e42ed73acc1b",
            "001ba86a10724eb2a1b503b2355ed34a",
            "84f8612f9d5a45dba84702f52776b992",
            "60a8568fa6ee4e7babab34814c190f3a",
            "1b691e6b0f0a42b1af44cd33b8a4ca97",
            "6eae73ae469142c8a67a07513ba20b0a",
            "6ac2bd93b4eb457ebb7130747e6cb255",
            "7ee77816e51f47c19aacc1fd01e3c5d9",
            "0e6f7a9f25e34a70bdf6c387f147cabb",
            "80a384d1a3d54c21a9ddbf35f777a71c",
            "3328bc8cf8c7411cb5476d228037901f",
            "eb1b6116e08f420c914961405582b05d",
            "661691c9a96e41289d4334ae8d173131",
            "f7ac3c481c6140e38048477ce121a85e",
            "4807e8d3b7eb45f2bb2c25f8bf6d9a64",
            "df5d9f183a47426d87053923d9b18f11",
            "3f18eabbca524170af6bf79236b9a487",
            "77f4ffa304854952a8a1eb702b479a55",
            "ec7d542832704f4fa191d26274444cfc",
            "d0e9907213ce4e8b903c614b2b5e1bd6",
            "ab8e03598205423e8b1b93e39c005609",
            "6a41c47152a9405dbd6cf5a857ea43d2",
            "8e903bca496b4f6bb267e27d831be199",
            "3558f8c94fd94c1099fa6f38af4a1eae",
            "9f7afdccc6e74c12938bb7f9a98a52bb",
            "9824f1b83e034dd7a324ae2956f656f6",
            "6944766637fc4ae6944a470fe814565f",
            "f45b3664a372406ebed7d7b4df028185"
          ]
        },
        "id": "DgxGtY6Y__a7",
        "outputId": "c3af23c2-520e-469f-d89b-681650e59839"
      },
      "outputs": [
        {
          "data": {
            "application/vnd.jupyter.widget-view+json": {
              "model_id": "4f5be486d9264e95bd3086749998a90f",
              "version_major": 2,
              "version_minor": 0
            },
            "text/plain": [
              "Map:   0%|          | 0/21411 [00:00<?, ? examples/s]"
            ]
          },
          "metadata": {},
          "output_type": "display_data"
        },
        {
          "data": {
            "application/vnd.jupyter.widget-view+json": {
              "model_id": "6ac2bd93b4eb457ebb7130747e6cb255",
              "version_major": 2,
              "version_minor": 0
            },
            "text/plain": [
              "Map:   0%|          | 0/4589 [00:00<?, ? examples/s]"
            ]
          },
          "metadata": {},
          "output_type": "display_data"
        },
        {
          "data": {
            "application/vnd.jupyter.widget-view+json": {
              "model_id": "77f4ffa304854952a8a1eb702b479a55",
              "version_major": 2,
              "version_minor": 0
            },
            "text/plain": [
              "Map:   0%|          | 0/4588 [00:00<?, ? examples/s]"
            ]
          },
          "metadata": {},
          "output_type": "display_data"
        }
      ],
      "source": [
        "def tokenize(batch):\n",
        "    return tokenizer(batch[\"text\"], padding=True, truncation=True, max_length=256)\n",
        "\n",
        "data_encoded = dataset.map(tokenize, batched=True, batch_size=None)"
      ]
    },
    {
      "cell_type": "code",
      "execution_count": null,
      "metadata": {
        "colab": {
          "base_uri": "https://localhost:8080/"
        },
        "id": "xqfE8xJ-Bj_X",
        "outputId": "793b257a-cd18-47cd-d259-62d60cd1f204"
      },
      "outputs": [
        {
          "data": {
            "text/plain": [
              "DatasetDict({\n",
              "    train: Dataset({\n",
              "        features: ['text', 'label', 'input_ids', 'token_type_ids', 'attention_mask'],\n",
              "        num_rows: 21411\n",
              "    })\n",
              "    test: Dataset({\n",
              "        features: ['text', 'label', 'input_ids', 'token_type_ids', 'attention_mask'],\n",
              "        num_rows: 4589\n",
              "    })\n",
              "    validation: Dataset({\n",
              "        features: ['text', 'label', 'input_ids', 'token_type_ids', 'attention_mask'],\n",
              "        num_rows: 4588\n",
              "    })\n",
              "})"
            ]
          },
          "execution_count": 28,
          "metadata": {},
          "output_type": "execute_result"
        }
      ],
      "source": [
        "data_encoded"
      ]
    },
    {
      "cell_type": "code",
      "execution_count": null,
      "metadata": {
        "id": "IxZ4unL_FqrH"
      },
      "outputs": [],
      "source": [
        "data_encoded.set_format('tf', columns=['input_ids', 'attention_mask', 'token_type_ids', 'label'])"
      ]
    },
    {
      "cell_type": "code",
      "execution_count": null,
      "metadata": {
        "id": "r4azGKCg202Y"
      },
      "outputs": [],
      "source": [
        "BATCH_SIZE = 16\n",
        "\n",
        "def order(inp):\n",
        "    '''\n",
        "    This function will group all the inputs of BERT\n",
        "    into a single dictionary and then output it with\n",
        "    labels.\n",
        "    '''\n",
        "    data = list(inp.values())\n",
        "    return {\n",
        "        'input_ids': data[1],\n",
        "        'attention_mask': data[2],\n",
        "        'token_type_ids': data[3]\n",
        "    }, data[0]\n",
        "\n",
        "# converting train split of `emotions_encoded` to tensorflow format\n",
        "train_dataset = tf.data.Dataset.from_tensor_slices(data_encoded['train'][:])\n",
        "# set batch_size and shuffle\n",
        "train_dataset = train_dataset.batch(BATCH_SIZE).shuffle(1000)\n",
        "# map the `order` function\n",
        "train_dataset = train_dataset.map(order, num_parallel_calls=tf.data.AUTOTUNE)\n",
        "\n",
        "# ... doing the same for test set ...\n",
        "test_dataset = tf.data.Dataset.from_tensor_slices(data_encoded['test'][:])\n",
        "test_dataset = test_dataset.batch(BATCH_SIZE)\n",
        "test_dataset = test_dataset.map(order, num_parallel_calls=tf.data.AUTOTUNE)\n",
        "\n",
        "val_dataset = tf.data.Dataset.from_tensor_slices(data_encoded['validation'][:])\n",
        "val_dataset = val_dataset.batch(BATCH_SIZE)\n",
        "val_dataset = val_dataset.map(order, num_parallel_calls=tf.data.AUTOTUNE)\n"
      ]
    },
    {
      "cell_type": "code",
      "execution_count": null,
      "metadata": {
        "colab": {
          "base_uri": "https://localhost:8080/"
        },
        "id": "03ecrAkg6XSW",
        "outputId": "9649c7fd-8042-40d9-db88-69508ee4ce6e"
      },
      "outputs": [
        {
          "name": "stdout",
          "output_type": "stream",
          "text": [
            "{'input_ids': <tf.Tensor: shape=(16, 256), dtype=int64, numpy=\n",
            "array([[  101,  8246,  5432, ...,     0,     0,     0],\n",
            "       [  101,  2054,  6433, ...,     0,     0,     0],\n",
            "       [  101,  4676,  1998, ...,     0,     0,     0],\n",
            "       ...,\n",
            "       [  101,  8840,  2140, ...,     0,     0,     0],\n",
            "       [  101,  1047,  2059, ...,     0,     0,     0],\n",
            "       [  101,  3817, 17557, ...,     0,     0,     0]])>, 'attention_mask': <tf.Tensor: shape=(16, 256), dtype=int64, numpy=\n",
            "array([[0, 0, 0, ..., 0, 0, 0],\n",
            "       [0, 0, 0, ..., 0, 0, 0],\n",
            "       [0, 0, 0, ..., 0, 0, 0],\n",
            "       ...,\n",
            "       [0, 0, 0, ..., 0, 0, 0],\n",
            "       [0, 0, 0, ..., 0, 0, 0],\n",
            "       [0, 0, 0, ..., 0, 0, 0]])>, 'token_type_ids': <tf.Tensor: shape=(16, 256), dtype=int64, numpy=\n",
            "array([[1, 1, 1, ..., 0, 0, 0],\n",
            "       [1, 1, 1, ..., 0, 0, 0],\n",
            "       [1, 1, 1, ..., 0, 0, 0],\n",
            "       ...,\n",
            "       [1, 1, 1, ..., 0, 0, 0],\n",
            "       [1, 1, 1, ..., 0, 0, 0],\n",
            "       [1, 1, 1, ..., 0, 0, 0]])>} \n",
            "\n",
            " tf.Tensor([1 1 0 1 1 0 1 1 1 1 1 0 1 1 1 1], shape=(16,), dtype=int64)\n"
          ]
        }
      ],
      "source": [
        "# print a batch from train_dataset\n",
        "inp, out = next(iter(train_dataset))\n",
        "print(inp, '\\n\\n', out)"
      ]
    },
    {
      "cell_type": "markdown",
      "source": [
        "##Train The Model"
      ],
      "metadata": {
        "id": "1pPkbUpvNxSd"
      }
    },
    {
      "cell_type": "code",
      "execution_count": null,
      "metadata": {
        "id": "hdd7UWcm5zQv"
      },
      "outputs": [],
      "source": [
        "class BERTForClassification(tf.keras.Model):\n",
        "\n",
        "    def __init__(self, bert_model, num_classes):\n",
        "        super().__init__()\n",
        "        self.bert = bert_model\n",
        "        self.fc = tf.keras.layers.Dense(num_classes, activation='softmax')\n",
        "\n",
        "    def call(self, inputs):\n",
        "        x = self.bert(inputs)[1]\n",
        "        return self.fc(x)"
      ]
    },
    {
      "cell_type": "code",
      "execution_count": null,
      "metadata": {
        "id": "QuCMmWho51Ew"
      },
      "outputs": [],
      "source": [
        "classifier = BERTForClassification(model, num_classes=2)\n",
        "\n",
        "classifier.compile(\n",
        "    optimizer = tf.keras.optimizers.Adam(learning_rate=1e-5),\n",
        "    loss = tf.keras.losses.SparseCategoricalCrossentropy(),\n",
        "    metrics = ['accuracy']\n",
        ")"
      ]
    },
    {
      "cell_type": "code",
      "execution_count": null,
      "metadata": {
        "colab": {
          "base_uri": "https://localhost:8080/"
        },
        "id": "MxNZyFGQ51TP",
        "outputId": "8bbcaa35-9e66-4cd4-bc9d-c14f38a7330f"
      },
      "outputs": [
        {
          "name": "stdout",
          "output_type": "stream",
          "text": [
            "Epoch 1/2\n",
            "1339/1339 [==============================] - 1387s 982ms/step - loss: 0.2048 - accuracy: 0.9170 - val_loss: 0.1665 - val_accuracy: 0.9348\n",
            "Epoch 2/2\n",
            "1339/1339 [==============================] - 1311s 979ms/step - loss: 0.1189 - accuracy: 0.9530 - val_loss: 0.1486 - val_accuracy: 0.9435\n"
          ]
        }
      ],
      "source": [
        "history = classifier.fit(\n",
        "    train_dataset,\n",
        "    epochs = 2,\n",
        "    validation_data = val_dataset\n",
        ")"
      ]
    },
    {
      "cell_type": "code",
      "execution_count": null,
      "metadata": {
        "colab": {
          "base_uri": "https://localhost:8080/"
        },
        "id": "-suyjSgj55bI",
        "outputId": "c314dfe2-f4ae-4b9b-a8a3-8458c093d083"
      },
      "outputs": [
        {
          "name": "stdout",
          "output_type": "stream",
          "text": [
            "287/287 [==============================] - 85s 296ms/step - loss: 0.1506 - accuracy: 0.9451\n"
          ]
        },
        {
          "data": {
            "text/plain": [
              "[0.15060967206954956, 0.9450860619544983]"
            ]
          },
          "execution_count": 35,
          "metadata": {},
          "output_type": "execute_result"
        }
      ],
      "source": [
        "classifier.evaluate(test_dataset)"
      ]
    },
    {
      "cell_type": "code",
      "execution_count": null,
      "metadata": {
        "colab": {
          "background_save": true
        },
        "id": "LaosZ91mz1JF",
        "outputId": "7590717e-abc0-41ef-aece-26d20818fa5c"
      },
      "outputs": [
        {
          "name": "stdout",
          "output_type": "stream",
          "text": [
            "287/287 [==============================] - 87s 293ms/step\n",
            "[[2147  148]\n",
            " [ 104 2190]]\n"
          ]
        },
        {
          "ename": "NameError",
          "evalue": "ignored",
          "output_type": "error",
          "traceback": [
            "\u001b[0;31m---------------------------------------------------------------------------\u001b[0m",
            "\u001b[0;31mNameError\u001b[0m                                 Traceback (most recent call last)",
            "\u001b[0;32m<ipython-input-36-4e17cb63e1c7>\u001b[0m in \u001b[0;36m<cell line: 10>\u001b[0;34m()\u001b[0m\n\u001b[1;32m      8\u001b[0m \u001b[0mcm\u001b[0m \u001b[0;34m=\u001b[0m \u001b[0mconfusion_matrix\u001b[0m\u001b[0;34m(\u001b[0m\u001b[0my_true\u001b[0m\u001b[0;34m,\u001b[0m \u001b[0my_pred\u001b[0m\u001b[0;34m)\u001b[0m\u001b[0;34m\u001b[0m\u001b[0;34m\u001b[0m\u001b[0m\n\u001b[1;32m      9\u001b[0m \u001b[0mprint\u001b[0m\u001b[0;34m(\u001b[0m\u001b[0mcm\u001b[0m\u001b[0;34m)\u001b[0m\u001b[0;34m\u001b[0m\u001b[0;34m\u001b[0m\u001b[0m\n\u001b[0;32m---> 10\u001b[0;31m \u001b[0mprint\u001b[0m\u001b[0;34m(\u001b[0m\u001b[0;34m'\\nAccuracy:'\u001b[0m\u001b[0;34m,\u001b[0m \u001b[0maccuracy_score\u001b[0m\u001b[0;34m(\u001b[0m\u001b[0my_test_binary\u001b[0m\u001b[0;34m,\u001b[0m \u001b[0my_pred\u001b[0m\u001b[0;34m)\u001b[0m\u001b[0;34m)\u001b[0m\u001b[0;34m\u001b[0m\u001b[0;34m\u001b[0m\u001b[0m\n\u001b[0m\u001b[1;32m     11\u001b[0m \u001b[0mprint\u001b[0m\u001b[0;34m(\u001b[0m\u001b[0;34m'Precision:'\u001b[0m\u001b[0;34m,\u001b[0m \u001b[0mprecision_score\u001b[0m\u001b[0;34m(\u001b[0m\u001b[0my_test_binary\u001b[0m\u001b[0;34m,\u001b[0m \u001b[0my_pred\u001b[0m\u001b[0;34m,\u001b[0m \u001b[0mpos_label\u001b[0m\u001b[0;34m=\u001b[0m\u001b[0;36m1\u001b[0m\u001b[0;34m)\u001b[0m\u001b[0;34m)\u001b[0m\u001b[0;34m\u001b[0m\u001b[0;34m\u001b[0m\u001b[0m\n\u001b[1;32m     12\u001b[0m \u001b[0mprint\u001b[0m\u001b[0;34m(\u001b[0m\u001b[0;34m'Recall:'\u001b[0m\u001b[0;34m,\u001b[0m \u001b[0mrecall_score\u001b[0m\u001b[0;34m(\u001b[0m\u001b[0my_test_binary\u001b[0m\u001b[0;34m,\u001b[0m \u001b[0my_pred\u001b[0m\u001b[0;34m,\u001b[0m \u001b[0mpos_label\u001b[0m\u001b[0;34m=\u001b[0m\u001b[0;36m1\u001b[0m\u001b[0;34m)\u001b[0m\u001b[0;34m)\u001b[0m\u001b[0;34m\u001b[0m\u001b[0;34m\u001b[0m\u001b[0m\n",
            "\u001b[0;31mNameError\u001b[0m: name 'accuracy_score' is not defined"
          ]
        }
      ],
      "source": [
        "from sklearn.metrics import confusion_matrix\n",
        "import numpy as np\n",
        "\n",
        "y_pred = classifier.predict(test_dataset)\n",
        "y_pred = np.argmax(y_pred, axis=1)\n",
        "y_true = test_labels\n",
        "\n",
        "cm = confusion_matrix(y_true, y_pred)\n",
        "print(cm)\n",
        "print('\\nAccuracy:', accuracy_score(y_test_binary, y_pred))\n",
        "print('Precision:', precision_score(y_test_binary, y_pred, pos_label=1))\n",
        "print('Recall:', recall_score(y_test_binary, y_pred, pos_label=1))\n",
        "print('F1 score:', f1_score(y_test_binary, y_pred, pos_label=1))"
      ]
    },
    {
      "cell_type": "code",
      "execution_count": null,
      "metadata": {
        "id": "dSkDacB-1T47"
      },
      "outputs": [],
      "source": [
        "# plot loss, accuracy, trainin, validation and , test\n",
        "import matplotlib.pyplot as plt\n",
        "\n",
        "plt.plot(history.history['loss'], label='train loss')\n",
        "plt.plot(history.history['val_loss'], label='val loss')\n",
        "plt.legend()\n",
        "plt.show()"
      ]
    },
    {
      "cell_type": "code",
      "execution_count": null,
      "metadata": {
        "colab": {
          "background_save": true
        },
        "id": "lpJH0Fro1WdT"
      },
      "outputs": [],
      "source": [
        "plt.plot(history.history['accuracy'], label='train accuracy')\n",
        "plt.plot(history.history['val_accuracy'], label='val accuracy')\n",
        "\n",
        "plt.legend()\n",
        "plt.show()"
      ]
    },
    {
      "cell_type": "code",
      "execution_count": null,
      "metadata": {
        "id": "Sc89qV0jz4xX"
      },
      "outputs": [],
      "source": [
        "classifier.save(\"bert_model1\")"
      ]
    }
  ],
  "metadata": {
    "accelerator": "GPU",
    "colab": {
      "provenance": [],
      "toc_visible": true
    },
    "kernelspec": {
      "display_name": "Python 3",
      "name": "python3"
    },
    "widgets": {
      "application/vnd.jupyter.widget-state+json": {
        "001ba86a10724eb2a1b503b2355ed34a": {
          "model_module": "@jupyter-widgets/controls",
          "model_module_version": "1.5.0",
          "model_name": "DescriptionStyleModel",
          "state": {
            "_model_module": "@jupyter-widgets/controls",
            "_model_module_version": "1.5.0",
            "_model_name": "DescriptionStyleModel",
            "_view_count": null,
            "_view_module": "@jupyter-widgets/base",
            "_view_module_version": "1.2.0",
            "_view_name": "StyleView",
            "description_width": ""
          }
        },
        "0e6f7a9f25e34a70bdf6c387f147cabb": {
          "model_module": "@jupyter-widgets/controls",
          "model_module_version": "1.5.0",
          "model_name": "FloatProgressModel",
          "state": {
            "_dom_classes": [],
            "_model_module": "@jupyter-widgets/controls",
            "_model_module_version": "1.5.0",
            "_model_name": "FloatProgressModel",
            "_view_count": null,
            "_view_module": "@jupyter-widgets/controls",
            "_view_module_version": "1.5.0",
            "_view_name": "ProgressView",
            "bar_style": "success",
            "description": "",
            "description_tooltip": null,
            "layout": "IPY_MODEL_f7ac3c481c6140e38048477ce121a85e",
            "max": 4589,
            "min": 0,
            "orientation": "horizontal",
            "style": "IPY_MODEL_4807e8d3b7eb45f2bb2c25f8bf6d9a64",
            "value": 4589
          }
        },
        "159b35f8888642df9a34aab77f8a81b1": {
          "model_module": "@jupyter-widgets/base",
          "model_module_version": "1.2.0",
          "model_name": "LayoutModel",
          "state": {
            "_model_module": "@jupyter-widgets/base",
            "_model_module_version": "1.2.0",
            "_model_name": "LayoutModel",
            "_view_count": null,
            "_view_module": "@jupyter-widgets/base",
            "_view_module_version": "1.2.0",
            "_view_name": "LayoutView",
            "align_content": null,
            "align_items": null,
            "align_self": null,
            "border": null,
            "bottom": null,
            "display": null,
            "flex": null,
            "flex_flow": null,
            "grid_area": null,
            "grid_auto_columns": null,
            "grid_auto_flow": null,
            "grid_auto_rows": null,
            "grid_column": null,
            "grid_gap": null,
            "grid_row": null,
            "grid_template_areas": null,
            "grid_template_columns": null,
            "grid_template_rows": null,
            "height": null,
            "justify_content": null,
            "justify_items": null,
            "left": null,
            "margin": null,
            "max_height": null,
            "max_width": null,
            "min_height": null,
            "min_width": null,
            "object_fit": null,
            "object_position": null,
            "order": null,
            "overflow": null,
            "overflow_x": null,
            "overflow_y": null,
            "padding": null,
            "right": null,
            "top": null,
            "visibility": null,
            "width": null
          }
        },
        "1b691e6b0f0a42b1af44cd33b8a4ca97": {
          "model_module": "@jupyter-widgets/base",
          "model_module_version": "1.2.0",
          "model_name": "LayoutModel",
          "state": {
            "_model_module": "@jupyter-widgets/base",
            "_model_module_version": "1.2.0",
            "_model_name": "LayoutModel",
            "_view_count": null,
            "_view_module": "@jupyter-widgets/base",
            "_view_module_version": "1.2.0",
            "_view_name": "LayoutView",
            "align_content": null,
            "align_items": null,
            "align_self": null,
            "border": null,
            "bottom": null,
            "display": null,
            "flex": null,
            "flex_flow": null,
            "grid_area": null,
            "grid_auto_columns": null,
            "grid_auto_flow": null,
            "grid_auto_rows": null,
            "grid_column": null,
            "grid_gap": null,
            "grid_row": null,
            "grid_template_areas": null,
            "grid_template_columns": null,
            "grid_template_rows": null,
            "height": null,
            "justify_content": null,
            "justify_items": null,
            "left": null,
            "margin": null,
            "max_height": null,
            "max_width": null,
            "min_height": null,
            "min_width": null,
            "object_fit": null,
            "object_position": null,
            "order": null,
            "overflow": null,
            "overflow_x": null,
            "overflow_y": null,
            "padding": null,
            "right": null,
            "top": null,
            "visibility": null,
            "width": null
          }
        },
        "3328bc8cf8c7411cb5476d228037901f": {
          "model_module": "@jupyter-widgets/base",
          "model_module_version": "1.2.0",
          "model_name": "LayoutModel",
          "state": {
            "_model_module": "@jupyter-widgets/base",
            "_model_module_version": "1.2.0",
            "_model_name": "LayoutModel",
            "_view_count": null,
            "_view_module": "@jupyter-widgets/base",
            "_view_module_version": "1.2.0",
            "_view_name": "LayoutView",
            "align_content": null,
            "align_items": null,
            "align_self": null,
            "border": null,
            "bottom": null,
            "display": null,
            "flex": null,
            "flex_flow": null,
            "grid_area": null,
            "grid_auto_columns": null,
            "grid_auto_flow": null,
            "grid_auto_rows": null,
            "grid_column": null,
            "grid_gap": null,
            "grid_row": null,
            "grid_template_areas": null,
            "grid_template_columns": null,
            "grid_template_rows": null,
            "height": null,
            "justify_content": null,
            "justify_items": null,
            "left": null,
            "margin": null,
            "max_height": null,
            "max_width": null,
            "min_height": null,
            "min_width": null,
            "object_fit": null,
            "object_position": null,
            "order": null,
            "overflow": null,
            "overflow_x": null,
            "overflow_y": null,
            "padding": null,
            "right": null,
            "top": null,
            "visibility": null,
            "width": null
          }
        },
        "3558f8c94fd94c1099fa6f38af4a1eae": {
          "model_module": "@jupyter-widgets/controls",
          "model_module_version": "1.5.0",
          "model_name": "DescriptionStyleModel",
          "state": {
            "_model_module": "@jupyter-widgets/controls",
            "_model_module_version": "1.5.0",
            "_model_name": "DescriptionStyleModel",
            "_view_count": null,
            "_view_module": "@jupyter-widgets/base",
            "_view_module_version": "1.2.0",
            "_view_name": "StyleView",
            "description_width": ""
          }
        },
        "3f18eabbca524170af6bf79236b9a487": {
          "model_module": "@jupyter-widgets/controls",
          "model_module_version": "1.5.0",
          "model_name": "DescriptionStyleModel",
          "state": {
            "_model_module": "@jupyter-widgets/controls",
            "_model_module_version": "1.5.0",
            "_model_name": "DescriptionStyleModel",
            "_view_count": null,
            "_view_module": "@jupyter-widgets/base",
            "_view_module_version": "1.2.0",
            "_view_name": "StyleView",
            "description_width": ""
          }
        },
        "4807e8d3b7eb45f2bb2c25f8bf6d9a64": {
          "model_module": "@jupyter-widgets/controls",
          "model_module_version": "1.5.0",
          "model_name": "ProgressStyleModel",
          "state": {
            "_model_module": "@jupyter-widgets/controls",
            "_model_module_version": "1.5.0",
            "_model_name": "ProgressStyleModel",
            "_view_count": null,
            "_view_module": "@jupyter-widgets/base",
            "_view_module_version": "1.2.0",
            "_view_name": "StyleView",
            "bar_color": null,
            "description_width": ""
          }
        },
        "4f5be486d9264e95bd3086749998a90f": {
          "model_module": "@jupyter-widgets/controls",
          "model_module_version": "1.5.0",
          "model_name": "HBoxModel",
          "state": {
            "_dom_classes": [],
            "_model_module": "@jupyter-widgets/controls",
            "_model_module_version": "1.5.0",
            "_model_name": "HBoxModel",
            "_view_count": null,
            "_view_module": "@jupyter-widgets/controls",
            "_view_module_version": "1.5.0",
            "_view_name": "HBoxView",
            "box_style": "",
            "children": [
              "IPY_MODEL_de1fd9850ba54b7ab4623e3e0f0ebab4",
              "IPY_MODEL_769c2bd30c6449db93782fbbb82787ac",
              "IPY_MODEL_59ec287faf724054b0612ae6762525e6"
            ],
            "layout": "IPY_MODEL_159b35f8888642df9a34aab77f8a81b1"
          }
        },
        "59ec287faf724054b0612ae6762525e6": {
          "model_module": "@jupyter-widgets/controls",
          "model_module_version": "1.5.0",
          "model_name": "HTMLModel",
          "state": {
            "_dom_classes": [],
            "_model_module": "@jupyter-widgets/controls",
            "_model_module_version": "1.5.0",
            "_model_name": "HTMLModel",
            "_view_count": null,
            "_view_module": "@jupyter-widgets/controls",
            "_view_module_version": "1.5.0",
            "_view_name": "HTMLView",
            "description": "",
            "description_tooltip": null,
            "layout": "IPY_MODEL_1b691e6b0f0a42b1af44cd33b8a4ca97",
            "placeholder": "​",
            "style": "IPY_MODEL_6eae73ae469142c8a67a07513ba20b0a",
            "value": " 21411/21411 [00:16&lt;00:00, 1344.35 examples/s]"
          }
        },
        "60a8568fa6ee4e7babab34814c190f3a": {
          "model_module": "@jupyter-widgets/controls",
          "model_module_version": "1.5.0",
          "model_name": "ProgressStyleModel",
          "state": {
            "_model_module": "@jupyter-widgets/controls",
            "_model_module_version": "1.5.0",
            "_model_name": "ProgressStyleModel",
            "_view_count": null,
            "_view_module": "@jupyter-widgets/base",
            "_view_module_version": "1.2.0",
            "_view_name": "StyleView",
            "bar_color": null,
            "description_width": ""
          }
        },
        "661691c9a96e41289d4334ae8d173131": {
          "model_module": "@jupyter-widgets/controls",
          "model_module_version": "1.5.0",
          "model_name": "DescriptionStyleModel",
          "state": {
            "_model_module": "@jupyter-widgets/controls",
            "_model_module_version": "1.5.0",
            "_model_name": "DescriptionStyleModel",
            "_view_count": null,
            "_view_module": "@jupyter-widgets/base",
            "_view_module_version": "1.2.0",
            "_view_name": "StyleView",
            "description_width": ""
          }
        },
        "6944766637fc4ae6944a470fe814565f": {
          "model_module": "@jupyter-widgets/base",
          "model_module_version": "1.2.0",
          "model_name": "LayoutModel",
          "state": {
            "_model_module": "@jupyter-widgets/base",
            "_model_module_version": "1.2.0",
            "_model_name": "LayoutModel",
            "_view_count": null,
            "_view_module": "@jupyter-widgets/base",
            "_view_module_version": "1.2.0",
            "_view_name": "LayoutView",
            "align_content": null,
            "align_items": null,
            "align_self": null,
            "border": null,
            "bottom": null,
            "display": null,
            "flex": null,
            "flex_flow": null,
            "grid_area": null,
            "grid_auto_columns": null,
            "grid_auto_flow": null,
            "grid_auto_rows": null,
            "grid_column": null,
            "grid_gap": null,
            "grid_row": null,
            "grid_template_areas": null,
            "grid_template_columns": null,
            "grid_template_rows": null,
            "height": null,
            "justify_content": null,
            "justify_items": null,
            "left": null,
            "margin": null,
            "max_height": null,
            "max_width": null,
            "min_height": null,
            "min_width": null,
            "object_fit": null,
            "object_position": null,
            "order": null,
            "overflow": null,
            "overflow_x": null,
            "overflow_y": null,
            "padding": null,
            "right": null,
            "top": null,
            "visibility": null,
            "width": null
          }
        },
        "6a41c47152a9405dbd6cf5a857ea43d2": {
          "model_module": "@jupyter-widgets/base",
          "model_module_version": "1.2.0",
          "model_name": "LayoutModel",
          "state": {
            "_model_module": "@jupyter-widgets/base",
            "_model_module_version": "1.2.0",
            "_model_name": "LayoutModel",
            "_view_count": null,
            "_view_module": "@jupyter-widgets/base",
            "_view_module_version": "1.2.0",
            "_view_name": "LayoutView",
            "align_content": null,
            "align_items": null,
            "align_self": null,
            "border": null,
            "bottom": null,
            "display": null,
            "flex": null,
            "flex_flow": null,
            "grid_area": null,
            "grid_auto_columns": null,
            "grid_auto_flow": null,
            "grid_auto_rows": null,
            "grid_column": null,
            "grid_gap": null,
            "grid_row": null,
            "grid_template_areas": null,
            "grid_template_columns": null,
            "grid_template_rows": null,
            "height": null,
            "justify_content": null,
            "justify_items": null,
            "left": null,
            "margin": null,
            "max_height": null,
            "max_width": null,
            "min_height": null,
            "min_width": null,
            "object_fit": null,
            "object_position": null,
            "order": null,
            "overflow": null,
            "overflow_x": null,
            "overflow_y": null,
            "padding": null,
            "right": null,
            "top": null,
            "visibility": null,
            "width": null
          }
        },
        "6ac2bd93b4eb457ebb7130747e6cb255": {
          "model_module": "@jupyter-widgets/controls",
          "model_module_version": "1.5.0",
          "model_name": "HBoxModel",
          "state": {
            "_dom_classes": [],
            "_model_module": "@jupyter-widgets/controls",
            "_model_module_version": "1.5.0",
            "_model_name": "HBoxModel",
            "_view_count": null,
            "_view_module": "@jupyter-widgets/controls",
            "_view_module_version": "1.5.0",
            "_view_name": "HBoxView",
            "box_style": "",
            "children": [
              "IPY_MODEL_7ee77816e51f47c19aacc1fd01e3c5d9",
              "IPY_MODEL_0e6f7a9f25e34a70bdf6c387f147cabb",
              "IPY_MODEL_80a384d1a3d54c21a9ddbf35f777a71c"
            ],
            "layout": "IPY_MODEL_3328bc8cf8c7411cb5476d228037901f"
          }
        },
        "6eae73ae469142c8a67a07513ba20b0a": {
          "model_module": "@jupyter-widgets/controls",
          "model_module_version": "1.5.0",
          "model_name": "DescriptionStyleModel",
          "state": {
            "_model_module": "@jupyter-widgets/controls",
            "_model_module_version": "1.5.0",
            "_model_name": "DescriptionStyleModel",
            "_view_count": null,
            "_view_module": "@jupyter-widgets/base",
            "_view_module_version": "1.2.0",
            "_view_name": "StyleView",
            "description_width": ""
          }
        },
        "769c2bd30c6449db93782fbbb82787ac": {
          "model_module": "@jupyter-widgets/controls",
          "model_module_version": "1.5.0",
          "model_name": "FloatProgressModel",
          "state": {
            "_dom_classes": [],
            "_model_module": "@jupyter-widgets/controls",
            "_model_module_version": "1.5.0",
            "_model_name": "FloatProgressModel",
            "_view_count": null,
            "_view_module": "@jupyter-widgets/controls",
            "_view_module_version": "1.5.0",
            "_view_name": "ProgressView",
            "bar_style": "success",
            "description": "",
            "description_tooltip": null,
            "layout": "IPY_MODEL_84f8612f9d5a45dba84702f52776b992",
            "max": 21411,
            "min": 0,
            "orientation": "horizontal",
            "style": "IPY_MODEL_60a8568fa6ee4e7babab34814c190f3a",
            "value": 21411
          }
        },
        "77f4ffa304854952a8a1eb702b479a55": {
          "model_module": "@jupyter-widgets/controls",
          "model_module_version": "1.5.0",
          "model_name": "HBoxModel",
          "state": {
            "_dom_classes": [],
            "_model_module": "@jupyter-widgets/controls",
            "_model_module_version": "1.5.0",
            "_model_name": "HBoxModel",
            "_view_count": null,
            "_view_module": "@jupyter-widgets/controls",
            "_view_module_version": "1.5.0",
            "_view_name": "HBoxView",
            "box_style": "",
            "children": [
              "IPY_MODEL_ec7d542832704f4fa191d26274444cfc",
              "IPY_MODEL_d0e9907213ce4e8b903c614b2b5e1bd6",
              "IPY_MODEL_ab8e03598205423e8b1b93e39c005609"
            ],
            "layout": "IPY_MODEL_6a41c47152a9405dbd6cf5a857ea43d2"
          }
        },
        "7ee77816e51f47c19aacc1fd01e3c5d9": {
          "model_module": "@jupyter-widgets/controls",
          "model_module_version": "1.5.0",
          "model_name": "HTMLModel",
          "state": {
            "_dom_classes": [],
            "_model_module": "@jupyter-widgets/controls",
            "_model_module_version": "1.5.0",
            "_model_name": "HTMLModel",
            "_view_count": null,
            "_view_module": "@jupyter-widgets/controls",
            "_view_module_version": "1.5.0",
            "_view_name": "HTMLView",
            "description": "",
            "description_tooltip": null,
            "layout": "IPY_MODEL_eb1b6116e08f420c914961405582b05d",
            "placeholder": "​",
            "style": "IPY_MODEL_661691c9a96e41289d4334ae8d173131",
            "value": "Map: 100%"
          }
        },
        "80a384d1a3d54c21a9ddbf35f777a71c": {
          "model_module": "@jupyter-widgets/controls",
          "model_module_version": "1.5.0",
          "model_name": "HTMLModel",
          "state": {
            "_dom_classes": [],
            "_model_module": "@jupyter-widgets/controls",
            "_model_module_version": "1.5.0",
            "_model_name": "HTMLModel",
            "_view_count": null,
            "_view_module": "@jupyter-widgets/controls",
            "_view_module_version": "1.5.0",
            "_view_name": "HTMLView",
            "description": "",
            "description_tooltip": null,
            "layout": "IPY_MODEL_df5d9f183a47426d87053923d9b18f11",
            "placeholder": "​",
            "style": "IPY_MODEL_3f18eabbca524170af6bf79236b9a487",
            "value": " 4589/4589 [00:06&lt;00:00, 701.02 examples/s]"
          }
        },
        "84f8612f9d5a45dba84702f52776b992": {
          "model_module": "@jupyter-widgets/base",
          "model_module_version": "1.2.0",
          "model_name": "LayoutModel",
          "state": {
            "_model_module": "@jupyter-widgets/base",
            "_model_module_version": "1.2.0",
            "_model_name": "LayoutModel",
            "_view_count": null,
            "_view_module": "@jupyter-widgets/base",
            "_view_module_version": "1.2.0",
            "_view_name": "LayoutView",
            "align_content": null,
            "align_items": null,
            "align_self": null,
            "border": null,
            "bottom": null,
            "display": null,
            "flex": null,
            "flex_flow": null,
            "grid_area": null,
            "grid_auto_columns": null,
            "grid_auto_flow": null,
            "grid_auto_rows": null,
            "grid_column": null,
            "grid_gap": null,
            "grid_row": null,
            "grid_template_areas": null,
            "grid_template_columns": null,
            "grid_template_rows": null,
            "height": null,
            "justify_content": null,
            "justify_items": null,
            "left": null,
            "margin": null,
            "max_height": null,
            "max_width": null,
            "min_height": null,
            "min_width": null,
            "object_fit": null,
            "object_position": null,
            "order": null,
            "overflow": null,
            "overflow_x": null,
            "overflow_y": null,
            "padding": null,
            "right": null,
            "top": null,
            "visibility": null,
            "width": null
          }
        },
        "8e903bca496b4f6bb267e27d831be199": {
          "model_module": "@jupyter-widgets/base",
          "model_module_version": "1.2.0",
          "model_name": "LayoutModel",
          "state": {
            "_model_module": "@jupyter-widgets/base",
            "_model_module_version": "1.2.0",
            "_model_name": "LayoutModel",
            "_view_count": null,
            "_view_module": "@jupyter-widgets/base",
            "_view_module_version": "1.2.0",
            "_view_name": "LayoutView",
            "align_content": null,
            "align_items": null,
            "align_self": null,
            "border": null,
            "bottom": null,
            "display": null,
            "flex": null,
            "flex_flow": null,
            "grid_area": null,
            "grid_auto_columns": null,
            "grid_auto_flow": null,
            "grid_auto_rows": null,
            "grid_column": null,
            "grid_gap": null,
            "grid_row": null,
            "grid_template_areas": null,
            "grid_template_columns": null,
            "grid_template_rows": null,
            "height": null,
            "justify_content": null,
            "justify_items": null,
            "left": null,
            "margin": null,
            "max_height": null,
            "max_width": null,
            "min_height": null,
            "min_width": null,
            "object_fit": null,
            "object_position": null,
            "order": null,
            "overflow": null,
            "overflow_x": null,
            "overflow_y": null,
            "padding": null,
            "right": null,
            "top": null,
            "visibility": null,
            "width": null
          }
        },
        "9824f1b83e034dd7a324ae2956f656f6": {
          "model_module": "@jupyter-widgets/controls",
          "model_module_version": "1.5.0",
          "model_name": "ProgressStyleModel",
          "state": {
            "_model_module": "@jupyter-widgets/controls",
            "_model_module_version": "1.5.0",
            "_model_name": "ProgressStyleModel",
            "_view_count": null,
            "_view_module": "@jupyter-widgets/base",
            "_view_module_version": "1.2.0",
            "_view_name": "StyleView",
            "bar_color": null,
            "description_width": ""
          }
        },
        "9f7afdccc6e74c12938bb7f9a98a52bb": {
          "model_module": "@jupyter-widgets/base",
          "model_module_version": "1.2.0",
          "model_name": "LayoutModel",
          "state": {
            "_model_module": "@jupyter-widgets/base",
            "_model_module_version": "1.2.0",
            "_model_name": "LayoutModel",
            "_view_count": null,
            "_view_module": "@jupyter-widgets/base",
            "_view_module_version": "1.2.0",
            "_view_name": "LayoutView",
            "align_content": null,
            "align_items": null,
            "align_self": null,
            "border": null,
            "bottom": null,
            "display": null,
            "flex": null,
            "flex_flow": null,
            "grid_area": null,
            "grid_auto_columns": null,
            "grid_auto_flow": null,
            "grid_auto_rows": null,
            "grid_column": null,
            "grid_gap": null,
            "grid_row": null,
            "grid_template_areas": null,
            "grid_template_columns": null,
            "grid_template_rows": null,
            "height": null,
            "justify_content": null,
            "justify_items": null,
            "left": null,
            "margin": null,
            "max_height": null,
            "max_width": null,
            "min_height": null,
            "min_width": null,
            "object_fit": null,
            "object_position": null,
            "order": null,
            "overflow": null,
            "overflow_x": null,
            "overflow_y": null,
            "padding": null,
            "right": null,
            "top": null,
            "visibility": null,
            "width": null
          }
        },
        "ab8e03598205423e8b1b93e39c005609": {
          "model_module": "@jupyter-widgets/controls",
          "model_module_version": "1.5.0",
          "model_name": "HTMLModel",
          "state": {
            "_dom_classes": [],
            "_model_module": "@jupyter-widgets/controls",
            "_model_module_version": "1.5.0",
            "_model_name": "HTMLModel",
            "_view_count": null,
            "_view_module": "@jupyter-widgets/controls",
            "_view_module_version": "1.5.0",
            "_view_name": "HTMLView",
            "description": "",
            "description_tooltip": null,
            "layout": "IPY_MODEL_6944766637fc4ae6944a470fe814565f",
            "placeholder": "​",
            "style": "IPY_MODEL_f45b3664a372406ebed7d7b4df028185",
            "value": " 4588/4588 [00:05&lt;00:00, 822.11 examples/s]"
          }
        },
        "d0e9907213ce4e8b903c614b2b5e1bd6": {
          "model_module": "@jupyter-widgets/controls",
          "model_module_version": "1.5.0",
          "model_name": "FloatProgressModel",
          "state": {
            "_dom_classes": [],
            "_model_module": "@jupyter-widgets/controls",
            "_model_module_version": "1.5.0",
            "_model_name": "FloatProgressModel",
            "_view_count": null,
            "_view_module": "@jupyter-widgets/controls",
            "_view_module_version": "1.5.0",
            "_view_name": "ProgressView",
            "bar_style": "success",
            "description": "",
            "description_tooltip": null,
            "layout": "IPY_MODEL_9f7afdccc6e74c12938bb7f9a98a52bb",
            "max": 4588,
            "min": 0,
            "orientation": "horizontal",
            "style": "IPY_MODEL_9824f1b83e034dd7a324ae2956f656f6",
            "value": 4588
          }
        },
        "de1fd9850ba54b7ab4623e3e0f0ebab4": {
          "model_module": "@jupyter-widgets/controls",
          "model_module_version": "1.5.0",
          "model_name": "HTMLModel",
          "state": {
            "_dom_classes": [],
            "_model_module": "@jupyter-widgets/controls",
            "_model_module_version": "1.5.0",
            "_model_name": "HTMLModel",
            "_view_count": null,
            "_view_module": "@jupyter-widgets/controls",
            "_view_module_version": "1.5.0",
            "_view_name": "HTMLView",
            "description": "",
            "description_tooltip": null,
            "layout": "IPY_MODEL_df78b65713224a2a8337e42ed73acc1b",
            "placeholder": "​",
            "style": "IPY_MODEL_001ba86a10724eb2a1b503b2355ed34a",
            "value": "Map: 100%"
          }
        },
        "df5d9f183a47426d87053923d9b18f11": {
          "model_module": "@jupyter-widgets/base",
          "model_module_version": "1.2.0",
          "model_name": "LayoutModel",
          "state": {
            "_model_module": "@jupyter-widgets/base",
            "_model_module_version": "1.2.0",
            "_model_name": "LayoutModel",
            "_view_count": null,
            "_view_module": "@jupyter-widgets/base",
            "_view_module_version": "1.2.0",
            "_view_name": "LayoutView",
            "align_content": null,
            "align_items": null,
            "align_self": null,
            "border": null,
            "bottom": null,
            "display": null,
            "flex": null,
            "flex_flow": null,
            "grid_area": null,
            "grid_auto_columns": null,
            "grid_auto_flow": null,
            "grid_auto_rows": null,
            "grid_column": null,
            "grid_gap": null,
            "grid_row": null,
            "grid_template_areas": null,
            "grid_template_columns": null,
            "grid_template_rows": null,
            "height": null,
            "justify_content": null,
            "justify_items": null,
            "left": null,
            "margin": null,
            "max_height": null,
            "max_width": null,
            "min_height": null,
            "min_width": null,
            "object_fit": null,
            "object_position": null,
            "order": null,
            "overflow": null,
            "overflow_x": null,
            "overflow_y": null,
            "padding": null,
            "right": null,
            "top": null,
            "visibility": null,
            "width": null
          }
        },
        "df78b65713224a2a8337e42ed73acc1b": {
          "model_module": "@jupyter-widgets/base",
          "model_module_version": "1.2.0",
          "model_name": "LayoutModel",
          "state": {
            "_model_module": "@jupyter-widgets/base",
            "_model_module_version": "1.2.0",
            "_model_name": "LayoutModel",
            "_view_count": null,
            "_view_module": "@jupyter-widgets/base",
            "_view_module_version": "1.2.0",
            "_view_name": "LayoutView",
            "align_content": null,
            "align_items": null,
            "align_self": null,
            "border": null,
            "bottom": null,
            "display": null,
            "flex": null,
            "flex_flow": null,
            "grid_area": null,
            "grid_auto_columns": null,
            "grid_auto_flow": null,
            "grid_auto_rows": null,
            "grid_column": null,
            "grid_gap": null,
            "grid_row": null,
            "grid_template_areas": null,
            "grid_template_columns": null,
            "grid_template_rows": null,
            "height": null,
            "justify_content": null,
            "justify_items": null,
            "left": null,
            "margin": null,
            "max_height": null,
            "max_width": null,
            "min_height": null,
            "min_width": null,
            "object_fit": null,
            "object_position": null,
            "order": null,
            "overflow": null,
            "overflow_x": null,
            "overflow_y": null,
            "padding": null,
            "right": null,
            "top": null,
            "visibility": null,
            "width": null
          }
        },
        "eb1b6116e08f420c914961405582b05d": {
          "model_module": "@jupyter-widgets/base",
          "model_module_version": "1.2.0",
          "model_name": "LayoutModel",
          "state": {
            "_model_module": "@jupyter-widgets/base",
            "_model_module_version": "1.2.0",
            "_model_name": "LayoutModel",
            "_view_count": null,
            "_view_module": "@jupyter-widgets/base",
            "_view_module_version": "1.2.0",
            "_view_name": "LayoutView",
            "align_content": null,
            "align_items": null,
            "align_self": null,
            "border": null,
            "bottom": null,
            "display": null,
            "flex": null,
            "flex_flow": null,
            "grid_area": null,
            "grid_auto_columns": null,
            "grid_auto_flow": null,
            "grid_auto_rows": null,
            "grid_column": null,
            "grid_gap": null,
            "grid_row": null,
            "grid_template_areas": null,
            "grid_template_columns": null,
            "grid_template_rows": null,
            "height": null,
            "justify_content": null,
            "justify_items": null,
            "left": null,
            "margin": null,
            "max_height": null,
            "max_width": null,
            "min_height": null,
            "min_width": null,
            "object_fit": null,
            "object_position": null,
            "order": null,
            "overflow": null,
            "overflow_x": null,
            "overflow_y": null,
            "padding": null,
            "right": null,
            "top": null,
            "visibility": null,
            "width": null
          }
        },
        "ec7d542832704f4fa191d26274444cfc": {
          "model_module": "@jupyter-widgets/controls",
          "model_module_version": "1.5.0",
          "model_name": "HTMLModel",
          "state": {
            "_dom_classes": [],
            "_model_module": "@jupyter-widgets/controls",
            "_model_module_version": "1.5.0",
            "_model_name": "HTMLModel",
            "_view_count": null,
            "_view_module": "@jupyter-widgets/controls",
            "_view_module_version": "1.5.0",
            "_view_name": "HTMLView",
            "description": "",
            "description_tooltip": null,
            "layout": "IPY_MODEL_8e903bca496b4f6bb267e27d831be199",
            "placeholder": "​",
            "style": "IPY_MODEL_3558f8c94fd94c1099fa6f38af4a1eae",
            "value": "Map: 100%"
          }
        },
        "f45b3664a372406ebed7d7b4df028185": {
          "model_module": "@jupyter-widgets/controls",
          "model_module_version": "1.5.0",
          "model_name": "DescriptionStyleModel",
          "state": {
            "_model_module": "@jupyter-widgets/controls",
            "_model_module_version": "1.5.0",
            "_model_name": "DescriptionStyleModel",
            "_view_count": null,
            "_view_module": "@jupyter-widgets/base",
            "_view_module_version": "1.2.0",
            "_view_name": "StyleView",
            "description_width": ""
          }
        },
        "f7ac3c481c6140e38048477ce121a85e": {
          "model_module": "@jupyter-widgets/base",
          "model_module_version": "1.2.0",
          "model_name": "LayoutModel",
          "state": {
            "_model_module": "@jupyter-widgets/base",
            "_model_module_version": "1.2.0",
            "_model_name": "LayoutModel",
            "_view_count": null,
            "_view_module": "@jupyter-widgets/base",
            "_view_module_version": "1.2.0",
            "_view_name": "LayoutView",
            "align_content": null,
            "align_items": null,
            "align_self": null,
            "border": null,
            "bottom": null,
            "display": null,
            "flex": null,
            "flex_flow": null,
            "grid_area": null,
            "grid_auto_columns": null,
            "grid_auto_flow": null,
            "grid_auto_rows": null,
            "grid_column": null,
            "grid_gap": null,
            "grid_row": null,
            "grid_template_areas": null,
            "grid_template_columns": null,
            "grid_template_rows": null,
            "height": null,
            "justify_content": null,
            "justify_items": null,
            "left": null,
            "margin": null,
            "max_height": null,
            "max_width": null,
            "min_height": null,
            "min_width": null,
            "object_fit": null,
            "object_position": null,
            "order": null,
            "overflow": null,
            "overflow_x": null,
            "overflow_y": null,
            "padding": null,
            "right": null,
            "top": null,
            "visibility": null,
            "width": null
          }
        }
      }
    }
  },
  "nbformat": 4,
  "nbformat_minor": 0
}